{
 "cells": [
  {
   "cell_type": "code",
   "execution_count": 1,
   "id": "e8d096b3",
   "metadata": {
    "_cell_guid": "b1076dfc-b9ad-4769-8c92-a6c4dae69d19",
    "_uuid": "8f2839f25d086af736a60e9eeb907d3b93b6e0e5",
    "execution": {
     "iopub.execute_input": "2022-03-15T15:56:28.127724Z",
     "iopub.status.busy": "2022-03-15T15:56:28.126373Z",
     "iopub.status.idle": "2022-03-15T15:56:30.907277Z",
     "shell.execute_reply": "2022-03-15T15:56:30.906587Z",
     "shell.execute_reply.started": "2022-03-15T15:48:07.210812Z"
    },
    "papermill": {
     "duration": 2.872475,
     "end_time": "2022-03-15T15:56:30.907540",
     "exception": false,
     "start_time": "2022-03-15T15:56:28.035065",
     "status": "completed"
    },
    "tags": []
   },
   "outputs": [
    {
     "data": {
      "text/html": [
       "<style type='text/css'>\n",
       ".datatable table.frame { margin-bottom: 0; }\n",
       ".datatable table.frame thead { border-bottom: none; }\n",
       ".datatable table.frame tr.coltypes td {  color: #FFFFFF;  line-height: 6px;  padding: 0 0.5em;}\n",
       ".datatable .bool    { background: #DDDD99; }\n",
       ".datatable .object  { background: #565656; }\n",
       ".datatable .int     { background: #5D9E5D; }\n",
       ".datatable .float   { background: #4040CC; }\n",
       ".datatable .str     { background: #CC4040; }\n",
       ".datatable .time    { background: #40CC40; }\n",
       ".datatable .row_index {  background: var(--jp-border-color3);  border-right: 1px solid var(--jp-border-color0);  color: var(--jp-ui-font-color3);  font-size: 9px;}\n",
       ".datatable .frame tbody td { text-align: left; }\n",
       ".datatable .frame tr.coltypes .row_index {  background: var(--jp-border-color0);}\n",
       ".datatable th:nth-child(2) { padding-left: 12px; }\n",
       ".datatable .hellipsis {  color: var(--jp-cell-editor-border-color);}\n",
       ".datatable .vellipsis {  background: var(--jp-layout-color0);  color: var(--jp-cell-editor-border-color);}\n",
       ".datatable .na {  color: var(--jp-cell-editor-border-color);  font-size: 80%;}\n",
       ".datatable .sp {  opacity: 0.25;}\n",
       ".datatable .footer { font-size: 9px; }\n",
       ".datatable .frame_dimensions {  background: var(--jp-border-color3);  border-top: 1px solid var(--jp-border-color0);  color: var(--jp-ui-font-color3);  display: inline-block;  opacity: 0.6;  padding: 1px 10px 1px 5px;}\n",
       "</style>\n"
      ],
      "text/plain": [
       "<IPython.core.display.HTML object>"
      ]
     },
     "metadata": {},
     "output_type": "display_data"
    },
    {
     "name": "stdout",
     "output_type": "stream",
     "text": [
      "/kaggle/input/spaceship-titanic/sample_submission.csv\n",
      "/kaggle/input/spaceship-titanic/train.csv\n",
      "/kaggle/input/spaceship-titanic/test.csv\n"
     ]
    }
   ],
   "source": [
    "# This Python 3 environment comes with many helpful analytics libraries installed\n",
    "# It is defined by the kaggle/python Docker image: https://github.com/kaggle/docker-python\n",
    "# For example, here's several helpful packages to load\n",
    "\n",
    "import numpy as np # linear algebra\n",
    "import pandas as pd # data processing, CSV file I/O (e.g. pd.read_csv)\n",
    "import seaborn as sns\n",
    "import matplotlib.pyplot as plt\n",
    "%matplotlib inline\n",
    "\n",
    "from sklearn.preprocessing import LabelEncoder, MinMaxScaler\n",
    "from sklearn.model_selection import train_test_split\n",
    "from sklearn.metrics import accuracy_score\n",
    "from sklearn.linear_model import LogisticRegression\n",
    "from sklearn.tree import DecisionTreeClassifier\n",
    "from sklearn.ensemble import RandomForestClassifier\n",
    "from xgboost import XGBClassifier\n",
    "from lightgbm import LGBMClassifier\n",
    "\n",
    "# Input data files are available in the read-only \"../input/\" directory\n",
    "# For example, running this (by clicking run or pressing Shift+Enter) will list all files under the input directory\n",
    "\n",
    "import os\n",
    "for dirname, _, filenames in os.walk('/kaggle/input'):\n",
    "    for filename in filenames:\n",
    "        print(os.path.join(dirname, filename))\n",
    "\n",
    "# You can write up to 20GB to the current directory (/kaggle/working/) that gets preserved as output when you create a version using \"Save & Run All\" \n",
    "# You can also write temporary files to /kaggle/temp/, but they won't be saved outside of the current session"
   ]
  },
  {
   "cell_type": "code",
   "execution_count": 2,
   "id": "bae65588",
   "metadata": {
    "execution": {
     "iopub.execute_input": "2022-03-15T15:56:31.082895Z",
     "iopub.status.busy": "2022-03-15T15:56:31.082073Z",
     "iopub.status.idle": "2022-03-15T15:56:31.175313Z",
     "shell.execute_reply": "2022-03-15T15:56:31.174582Z",
     "shell.execute_reply.started": "2022-03-15T15:52:43.513024Z"
    },
    "papermill": {
     "duration": 0.183479,
     "end_time": "2022-03-15T15:56:31.175569",
     "exception": false,
     "start_time": "2022-03-15T15:56:30.992090",
     "status": "completed"
    },
    "tags": []
   },
   "outputs": [],
   "source": [
    "train_df = pd.read_csv(\"/kaggle/input/spaceship-titanic/train.csv\")\n",
    "test_df = pd.read_csv(\"/kaggle/input/spaceship-titanic/test.csv\")\n",
    "sub_df = pd.read_csv(\"/kaggle/input/spaceship-titanic/sample_submission.csv\")"
   ]
  },
  {
   "cell_type": "code",
   "execution_count": 3,
   "id": "f2d07f6d",
   "metadata": {
    "execution": {
     "iopub.execute_input": "2022-03-15T15:56:31.345976Z",
     "iopub.status.busy": "2022-03-15T15:56:31.345218Z",
     "iopub.status.idle": "2022-03-15T15:56:31.369971Z",
     "shell.execute_reply": "2022-03-15T15:56:31.369258Z",
     "shell.execute_reply.started": "2022-03-15T15:48:11.461343Z"
    },
    "papermill": {
     "duration": 0.111272,
     "end_time": "2022-03-15T15:56:31.370137",
     "exception": false,
     "start_time": "2022-03-15T15:56:31.258865",
     "status": "completed"
    },
    "tags": []
   },
   "outputs": [
    {
     "data": {
      "text/html": [
       "<div>\n",
       "<style scoped>\n",
       "    .dataframe tbody tr th:only-of-type {\n",
       "        vertical-align: middle;\n",
       "    }\n",
       "\n",
       "    .dataframe tbody tr th {\n",
       "        vertical-align: top;\n",
       "    }\n",
       "\n",
       "    .dataframe thead th {\n",
       "        text-align: right;\n",
       "    }\n",
       "</style>\n",
       "<table border=\"1\" class=\"dataframe\">\n",
       "  <thead>\n",
       "    <tr style=\"text-align: right;\">\n",
       "      <th></th>\n",
       "      <th>PassengerId</th>\n",
       "      <th>HomePlanet</th>\n",
       "      <th>CryoSleep</th>\n",
       "      <th>Cabin</th>\n",
       "      <th>Destination</th>\n",
       "      <th>Age</th>\n",
       "      <th>VIP</th>\n",
       "      <th>RoomService</th>\n",
       "      <th>FoodCourt</th>\n",
       "      <th>ShoppingMall</th>\n",
       "      <th>Spa</th>\n",
       "      <th>VRDeck</th>\n",
       "      <th>Name</th>\n",
       "      <th>Transported</th>\n",
       "    </tr>\n",
       "  </thead>\n",
       "  <tbody>\n",
       "    <tr>\n",
       "      <th>0</th>\n",
       "      <td>0001_01</td>\n",
       "      <td>Europa</td>\n",
       "      <td>False</td>\n",
       "      <td>B/0/P</td>\n",
       "      <td>TRAPPIST-1e</td>\n",
       "      <td>39.0</td>\n",
       "      <td>False</td>\n",
       "      <td>0.0</td>\n",
       "      <td>0.0</td>\n",
       "      <td>0.0</td>\n",
       "      <td>0.0</td>\n",
       "      <td>0.0</td>\n",
       "      <td>Maham Ofracculy</td>\n",
       "      <td>False</td>\n",
       "    </tr>\n",
       "    <tr>\n",
       "      <th>1</th>\n",
       "      <td>0002_01</td>\n",
       "      <td>Earth</td>\n",
       "      <td>False</td>\n",
       "      <td>F/0/S</td>\n",
       "      <td>TRAPPIST-1e</td>\n",
       "      <td>24.0</td>\n",
       "      <td>False</td>\n",
       "      <td>109.0</td>\n",
       "      <td>9.0</td>\n",
       "      <td>25.0</td>\n",
       "      <td>549.0</td>\n",
       "      <td>44.0</td>\n",
       "      <td>Juanna Vines</td>\n",
       "      <td>True</td>\n",
       "    </tr>\n",
       "    <tr>\n",
       "      <th>2</th>\n",
       "      <td>0003_01</td>\n",
       "      <td>Europa</td>\n",
       "      <td>False</td>\n",
       "      <td>A/0/S</td>\n",
       "      <td>TRAPPIST-1e</td>\n",
       "      <td>58.0</td>\n",
       "      <td>True</td>\n",
       "      <td>43.0</td>\n",
       "      <td>3576.0</td>\n",
       "      <td>0.0</td>\n",
       "      <td>6715.0</td>\n",
       "      <td>49.0</td>\n",
       "      <td>Altark Susent</td>\n",
       "      <td>False</td>\n",
       "    </tr>\n",
       "    <tr>\n",
       "      <th>3</th>\n",
       "      <td>0003_02</td>\n",
       "      <td>Europa</td>\n",
       "      <td>False</td>\n",
       "      <td>A/0/S</td>\n",
       "      <td>TRAPPIST-1e</td>\n",
       "      <td>33.0</td>\n",
       "      <td>False</td>\n",
       "      <td>0.0</td>\n",
       "      <td>1283.0</td>\n",
       "      <td>371.0</td>\n",
       "      <td>3329.0</td>\n",
       "      <td>193.0</td>\n",
       "      <td>Solam Susent</td>\n",
       "      <td>False</td>\n",
       "    </tr>\n",
       "    <tr>\n",
       "      <th>4</th>\n",
       "      <td>0004_01</td>\n",
       "      <td>Earth</td>\n",
       "      <td>False</td>\n",
       "      <td>F/1/S</td>\n",
       "      <td>TRAPPIST-1e</td>\n",
       "      <td>16.0</td>\n",
       "      <td>False</td>\n",
       "      <td>303.0</td>\n",
       "      <td>70.0</td>\n",
       "      <td>151.0</td>\n",
       "      <td>565.0</td>\n",
       "      <td>2.0</td>\n",
       "      <td>Willy Santantines</td>\n",
       "      <td>True</td>\n",
       "    </tr>\n",
       "  </tbody>\n",
       "</table>\n",
       "</div>"
      ],
      "text/plain": [
       "  PassengerId HomePlanet CryoSleep  Cabin  Destination   Age    VIP  \\\n",
       "0     0001_01     Europa     False  B/0/P  TRAPPIST-1e  39.0  False   \n",
       "1     0002_01      Earth     False  F/0/S  TRAPPIST-1e  24.0  False   \n",
       "2     0003_01     Europa     False  A/0/S  TRAPPIST-1e  58.0   True   \n",
       "3     0003_02     Europa     False  A/0/S  TRAPPIST-1e  33.0  False   \n",
       "4     0004_01      Earth     False  F/1/S  TRAPPIST-1e  16.0  False   \n",
       "\n",
       "   RoomService  FoodCourt  ShoppingMall     Spa  VRDeck               Name  \\\n",
       "0          0.0        0.0           0.0     0.0     0.0    Maham Ofracculy   \n",
       "1        109.0        9.0          25.0   549.0    44.0       Juanna Vines   \n",
       "2         43.0     3576.0           0.0  6715.0    49.0      Altark Susent   \n",
       "3          0.0     1283.0         371.0  3329.0   193.0       Solam Susent   \n",
       "4        303.0       70.0         151.0   565.0     2.0  Willy Santantines   \n",
       "\n",
       "   Transported  \n",
       "0        False  \n",
       "1         True  \n",
       "2        False  \n",
       "3        False  \n",
       "4         True  "
      ]
     },
     "execution_count": 3,
     "metadata": {},
     "output_type": "execute_result"
    }
   ],
   "source": [
    "train_df.head()"
   ]
  },
  {
   "cell_type": "code",
   "execution_count": 4,
   "id": "37913e80",
   "metadata": {
    "execution": {
     "iopub.execute_input": "2022-03-15T15:56:31.534052Z",
     "iopub.status.busy": "2022-03-15T15:56:31.533311Z",
     "iopub.status.idle": "2022-03-15T15:56:31.552855Z",
     "shell.execute_reply": "2022-03-15T15:56:31.553449Z",
     "shell.execute_reply.started": "2022-03-15T15:48:11.832651Z"
    },
    "papermill": {
     "duration": 0.102773,
     "end_time": "2022-03-15T15:56:31.553761",
     "exception": false,
     "start_time": "2022-03-15T15:56:31.450988",
     "status": "completed"
    },
    "tags": []
   },
   "outputs": [
    {
     "data": {
      "text/html": [
       "<div>\n",
       "<style scoped>\n",
       "    .dataframe tbody tr th:only-of-type {\n",
       "        vertical-align: middle;\n",
       "    }\n",
       "\n",
       "    .dataframe tbody tr th {\n",
       "        vertical-align: top;\n",
       "    }\n",
       "\n",
       "    .dataframe thead th {\n",
       "        text-align: right;\n",
       "    }\n",
       "</style>\n",
       "<table border=\"1\" class=\"dataframe\">\n",
       "  <thead>\n",
       "    <tr style=\"text-align: right;\">\n",
       "      <th></th>\n",
       "      <th>PassengerId</th>\n",
       "      <th>HomePlanet</th>\n",
       "      <th>CryoSleep</th>\n",
       "      <th>Cabin</th>\n",
       "      <th>Destination</th>\n",
       "      <th>Age</th>\n",
       "      <th>VIP</th>\n",
       "      <th>RoomService</th>\n",
       "      <th>FoodCourt</th>\n",
       "      <th>ShoppingMall</th>\n",
       "      <th>Spa</th>\n",
       "      <th>VRDeck</th>\n",
       "      <th>Name</th>\n",
       "    </tr>\n",
       "  </thead>\n",
       "  <tbody>\n",
       "    <tr>\n",
       "      <th>0</th>\n",
       "      <td>0013_01</td>\n",
       "      <td>Earth</td>\n",
       "      <td>True</td>\n",
       "      <td>G/3/S</td>\n",
       "      <td>TRAPPIST-1e</td>\n",
       "      <td>27.0</td>\n",
       "      <td>False</td>\n",
       "      <td>0.0</td>\n",
       "      <td>0.0</td>\n",
       "      <td>0.0</td>\n",
       "      <td>0.0</td>\n",
       "      <td>0.0</td>\n",
       "      <td>Nelly Carsoning</td>\n",
       "    </tr>\n",
       "    <tr>\n",
       "      <th>1</th>\n",
       "      <td>0018_01</td>\n",
       "      <td>Earth</td>\n",
       "      <td>False</td>\n",
       "      <td>F/4/S</td>\n",
       "      <td>TRAPPIST-1e</td>\n",
       "      <td>19.0</td>\n",
       "      <td>False</td>\n",
       "      <td>0.0</td>\n",
       "      <td>9.0</td>\n",
       "      <td>0.0</td>\n",
       "      <td>2823.0</td>\n",
       "      <td>0.0</td>\n",
       "      <td>Lerome Peckers</td>\n",
       "    </tr>\n",
       "    <tr>\n",
       "      <th>2</th>\n",
       "      <td>0019_01</td>\n",
       "      <td>Europa</td>\n",
       "      <td>True</td>\n",
       "      <td>C/0/S</td>\n",
       "      <td>55 Cancri e</td>\n",
       "      <td>31.0</td>\n",
       "      <td>False</td>\n",
       "      <td>0.0</td>\n",
       "      <td>0.0</td>\n",
       "      <td>0.0</td>\n",
       "      <td>0.0</td>\n",
       "      <td>0.0</td>\n",
       "      <td>Sabih Unhearfus</td>\n",
       "    </tr>\n",
       "    <tr>\n",
       "      <th>3</th>\n",
       "      <td>0021_01</td>\n",
       "      <td>Europa</td>\n",
       "      <td>False</td>\n",
       "      <td>C/1/S</td>\n",
       "      <td>TRAPPIST-1e</td>\n",
       "      <td>38.0</td>\n",
       "      <td>False</td>\n",
       "      <td>0.0</td>\n",
       "      <td>6652.0</td>\n",
       "      <td>0.0</td>\n",
       "      <td>181.0</td>\n",
       "      <td>585.0</td>\n",
       "      <td>Meratz Caltilter</td>\n",
       "    </tr>\n",
       "    <tr>\n",
       "      <th>4</th>\n",
       "      <td>0023_01</td>\n",
       "      <td>Earth</td>\n",
       "      <td>False</td>\n",
       "      <td>F/5/S</td>\n",
       "      <td>TRAPPIST-1e</td>\n",
       "      <td>20.0</td>\n",
       "      <td>False</td>\n",
       "      <td>10.0</td>\n",
       "      <td>0.0</td>\n",
       "      <td>635.0</td>\n",
       "      <td>0.0</td>\n",
       "      <td>0.0</td>\n",
       "      <td>Brence Harperez</td>\n",
       "    </tr>\n",
       "  </tbody>\n",
       "</table>\n",
       "</div>"
      ],
      "text/plain": [
       "  PassengerId HomePlanet CryoSleep  Cabin  Destination   Age    VIP  \\\n",
       "0     0013_01      Earth      True  G/3/S  TRAPPIST-1e  27.0  False   \n",
       "1     0018_01      Earth     False  F/4/S  TRAPPIST-1e  19.0  False   \n",
       "2     0019_01     Europa      True  C/0/S  55 Cancri e  31.0  False   \n",
       "3     0021_01     Europa     False  C/1/S  TRAPPIST-1e  38.0  False   \n",
       "4     0023_01      Earth     False  F/5/S  TRAPPIST-1e  20.0  False   \n",
       "\n",
       "   RoomService  FoodCourt  ShoppingMall     Spa  VRDeck              Name  \n",
       "0          0.0        0.0           0.0     0.0     0.0   Nelly Carsoning  \n",
       "1          0.0        9.0           0.0  2823.0     0.0    Lerome Peckers  \n",
       "2          0.0        0.0           0.0     0.0     0.0   Sabih Unhearfus  \n",
       "3          0.0     6652.0           0.0   181.0   585.0  Meratz Caltilter  \n",
       "4         10.0        0.0         635.0     0.0     0.0   Brence Harperez  "
      ]
     },
     "execution_count": 4,
     "metadata": {},
     "output_type": "execute_result"
    }
   ],
   "source": [
    "test_df.head()"
   ]
  },
  {
   "cell_type": "code",
   "execution_count": 5,
   "id": "ea873687",
   "metadata": {
    "execution": {
     "iopub.execute_input": "2022-03-15T15:56:31.723655Z",
     "iopub.status.busy": "2022-03-15T15:56:31.722837Z",
     "iopub.status.idle": "2022-03-15T15:56:31.731587Z",
     "shell.execute_reply": "2022-03-15T15:56:31.732149Z",
     "shell.execute_reply.started": "2022-03-15T14:32:27.469517Z"
    },
    "papermill": {
     "duration": 0.093083,
     "end_time": "2022-03-15T15:56:31.732362",
     "exception": false,
     "start_time": "2022-03-15T15:56:31.639279",
     "status": "completed"
    },
    "tags": []
   },
   "outputs": [
    {
     "data": {
      "text/html": [
       "<div>\n",
       "<style scoped>\n",
       "    .dataframe tbody tr th:only-of-type {\n",
       "        vertical-align: middle;\n",
       "    }\n",
       "\n",
       "    .dataframe tbody tr th {\n",
       "        vertical-align: top;\n",
       "    }\n",
       "\n",
       "    .dataframe thead th {\n",
       "        text-align: right;\n",
       "    }\n",
       "</style>\n",
       "<table border=\"1\" class=\"dataframe\">\n",
       "  <thead>\n",
       "    <tr style=\"text-align: right;\">\n",
       "      <th></th>\n",
       "      <th>PassengerId</th>\n",
       "      <th>Transported</th>\n",
       "    </tr>\n",
       "  </thead>\n",
       "  <tbody>\n",
       "    <tr>\n",
       "      <th>0</th>\n",
       "      <td>0013_01</td>\n",
       "      <td>False</td>\n",
       "    </tr>\n",
       "    <tr>\n",
       "      <th>1</th>\n",
       "      <td>0018_01</td>\n",
       "      <td>False</td>\n",
       "    </tr>\n",
       "    <tr>\n",
       "      <th>2</th>\n",
       "      <td>0019_01</td>\n",
       "      <td>False</td>\n",
       "    </tr>\n",
       "    <tr>\n",
       "      <th>3</th>\n",
       "      <td>0021_01</td>\n",
       "      <td>False</td>\n",
       "    </tr>\n",
       "    <tr>\n",
       "      <th>4</th>\n",
       "      <td>0023_01</td>\n",
       "      <td>False</td>\n",
       "    </tr>\n",
       "  </tbody>\n",
       "</table>\n",
       "</div>"
      ],
      "text/plain": [
       "  PassengerId  Transported\n",
       "0     0013_01        False\n",
       "1     0018_01        False\n",
       "2     0019_01        False\n",
       "3     0021_01        False\n",
       "4     0023_01        False"
      ]
     },
     "execution_count": 5,
     "metadata": {},
     "output_type": "execute_result"
    }
   ],
   "source": [
    "sub_df.head()"
   ]
  },
  {
   "cell_type": "markdown",
   "id": "2978013f",
   "metadata": {
    "papermill": {
     "duration": 0.083034,
     "end_time": "2022-03-15T15:56:31.897826",
     "exception": false,
     "start_time": "2022-03-15T15:56:31.814792",
     "status": "completed"
    },
    "tags": []
   },
   "source": [
    "# EDA"
   ]
  },
  {
   "cell_type": "markdown",
   "id": "9aa50c74",
   "metadata": {
    "papermill": {
     "duration": 0.080897,
     "end_time": "2022-03-15T15:56:32.061302",
     "exception": false,
     "start_time": "2022-03-15T15:56:31.980405",
     "status": "completed"
    },
    "tags": []
   },
   "source": [
    "### EDA: Info of Columns"
   ]
  },
  {
   "cell_type": "code",
   "execution_count": 6,
   "id": "2c3ae4f3",
   "metadata": {
    "execution": {
     "iopub.execute_input": "2022-03-15T15:56:32.229084Z",
     "iopub.status.busy": "2022-03-15T15:56:32.228218Z",
     "iopub.status.idle": "2022-03-15T15:56:32.265674Z",
     "shell.execute_reply": "2022-03-15T15:56:32.266543Z",
     "shell.execute_reply.started": "2022-03-14T14:10:47.634923Z"
    },
    "papermill": {
     "duration": 0.124059,
     "end_time": "2022-03-15T15:56:32.266834",
     "exception": false,
     "start_time": "2022-03-15T15:56:32.142775",
     "status": "completed"
    },
    "tags": []
   },
   "outputs": [
    {
     "name": "stdout",
     "output_type": "stream",
     "text": [
      "<class 'pandas.core.frame.DataFrame'>\n",
      "RangeIndex: 8693 entries, 0 to 8692\n",
      "Data columns (total 14 columns):\n",
      " #   Column        Non-Null Count  Dtype  \n",
      "---  ------        --------------  -----  \n",
      " 0   PassengerId   8693 non-null   object \n",
      " 1   HomePlanet    8492 non-null   object \n",
      " 2   CryoSleep     8476 non-null   object \n",
      " 3   Cabin         8494 non-null   object \n",
      " 4   Destination   8511 non-null   object \n",
      " 5   Age           8514 non-null   float64\n",
      " 6   VIP           8490 non-null   object \n",
      " 7   RoomService   8512 non-null   float64\n",
      " 8   FoodCourt     8510 non-null   float64\n",
      " 9   ShoppingMall  8485 non-null   float64\n",
      " 10  Spa           8510 non-null   float64\n",
      " 11  VRDeck        8505 non-null   float64\n",
      " 12  Name          8493 non-null   object \n",
      " 13  Transported   8693 non-null   bool   \n",
      "dtypes: bool(1), float64(6), object(7)\n",
      "memory usage: 891.5+ KB\n"
     ]
    }
   ],
   "source": [
    "train_df.info()"
   ]
  },
  {
   "cell_type": "code",
   "execution_count": 7,
   "id": "47ecc26d",
   "metadata": {
    "execution": {
     "iopub.execute_input": "2022-03-15T15:56:32.463443Z",
     "iopub.status.busy": "2022-03-15T15:56:32.462715Z",
     "iopub.status.idle": "2022-03-15T15:56:32.483705Z",
     "shell.execute_reply": "2022-03-15T15:56:32.484318Z",
     "shell.execute_reply.started": "2022-03-14T14:10:47.673332Z"
    },
    "papermill": {
     "duration": 0.120075,
     "end_time": "2022-03-15T15:56:32.484530",
     "exception": false,
     "start_time": "2022-03-15T15:56:32.364455",
     "status": "completed"
    },
    "tags": []
   },
   "outputs": [
    {
     "name": "stdout",
     "output_type": "stream",
     "text": [
      "<class 'pandas.core.frame.DataFrame'>\n",
      "RangeIndex: 4277 entries, 0 to 4276\n",
      "Data columns (total 13 columns):\n",
      " #   Column        Non-Null Count  Dtype  \n",
      "---  ------        --------------  -----  \n",
      " 0   PassengerId   4277 non-null   object \n",
      " 1   HomePlanet    4190 non-null   object \n",
      " 2   CryoSleep     4184 non-null   object \n",
      " 3   Cabin         4177 non-null   object \n",
      " 4   Destination   4185 non-null   object \n",
      " 5   Age           4186 non-null   float64\n",
      " 6   VIP           4184 non-null   object \n",
      " 7   RoomService   4195 non-null   float64\n",
      " 8   FoodCourt     4171 non-null   float64\n",
      " 9   ShoppingMall  4179 non-null   float64\n",
      " 10  Spa           4176 non-null   float64\n",
      " 11  VRDeck        4197 non-null   float64\n",
      " 12  Name          4183 non-null   object \n",
      "dtypes: float64(6), object(7)\n",
      "memory usage: 434.5+ KB\n"
     ]
    }
   ],
   "source": [
    "test_df.info()"
   ]
  },
  {
   "cell_type": "markdown",
   "id": "af3da8b6",
   "metadata": {
    "papermill": {
     "duration": 0.096049,
     "end_time": "2022-03-15T15:56:32.680580",
     "exception": false,
     "start_time": "2022-03-15T15:56:32.584531",
     "status": "completed"
    },
    "tags": []
   },
   "source": [
    "### EDA: NaN Percentage"
   ]
  },
  {
   "cell_type": "code",
   "execution_count": 8,
   "id": "8e3f369b",
   "metadata": {
    "execution": {
     "iopub.execute_input": "2022-03-15T15:56:32.852469Z",
     "iopub.status.busy": "2022-03-15T15:56:32.851745Z",
     "iopub.status.idle": "2022-03-15T15:56:32.882816Z",
     "shell.execute_reply": "2022-03-15T15:56:32.881860Z",
     "shell.execute_reply.started": "2022-03-14T14:10:47.692384Z"
    },
    "papermill": {
     "duration": 0.119442,
     "end_time": "2022-03-15T15:56:32.883025",
     "exception": false,
     "start_time": "2022-03-15T15:56:32.763583",
     "status": "completed"
    },
    "tags": []
   },
   "outputs": [
    {
     "name": "stdout",
     "output_type": "stream",
     "text": [
      "NaN Values in Train Columns\n"
     ]
    },
    {
     "data": {
      "text/html": [
       "<div>\n",
       "<style scoped>\n",
       "    .dataframe tbody tr th:only-of-type {\n",
       "        vertical-align: middle;\n",
       "    }\n",
       "\n",
       "    .dataframe tbody tr th {\n",
       "        vertical-align: top;\n",
       "    }\n",
       "\n",
       "    .dataframe thead th {\n",
       "        text-align: right;\n",
       "    }\n",
       "</style>\n",
       "<table border=\"1\" class=\"dataframe\">\n",
       "  <thead>\n",
       "    <tr style=\"text-align: right;\">\n",
       "      <th></th>\n",
       "      <th>Col</th>\n",
       "      <th>Total_NaN</th>\n",
       "      <th>Percentage_NaN</th>\n",
       "    </tr>\n",
       "  </thead>\n",
       "  <tbody>\n",
       "    <tr>\n",
       "      <th>0</th>\n",
       "      <td>PassengerId</td>\n",
       "      <td>0</td>\n",
       "      <td>0.00</td>\n",
       "    </tr>\n",
       "    <tr>\n",
       "      <th>1</th>\n",
       "      <td>HomePlanet</td>\n",
       "      <td>201</td>\n",
       "      <td>2.31</td>\n",
       "    </tr>\n",
       "    <tr>\n",
       "      <th>2</th>\n",
       "      <td>CryoSleep</td>\n",
       "      <td>217</td>\n",
       "      <td>2.50</td>\n",
       "    </tr>\n",
       "    <tr>\n",
       "      <th>3</th>\n",
       "      <td>Cabin</td>\n",
       "      <td>199</td>\n",
       "      <td>2.29</td>\n",
       "    </tr>\n",
       "    <tr>\n",
       "      <th>4</th>\n",
       "      <td>Destination</td>\n",
       "      <td>182</td>\n",
       "      <td>2.09</td>\n",
       "    </tr>\n",
       "    <tr>\n",
       "      <th>5</th>\n",
       "      <td>Age</td>\n",
       "      <td>179</td>\n",
       "      <td>2.06</td>\n",
       "    </tr>\n",
       "    <tr>\n",
       "      <th>6</th>\n",
       "      <td>VIP</td>\n",
       "      <td>203</td>\n",
       "      <td>2.34</td>\n",
       "    </tr>\n",
       "    <tr>\n",
       "      <th>7</th>\n",
       "      <td>RoomService</td>\n",
       "      <td>181</td>\n",
       "      <td>2.08</td>\n",
       "    </tr>\n",
       "    <tr>\n",
       "      <th>8</th>\n",
       "      <td>FoodCourt</td>\n",
       "      <td>183</td>\n",
       "      <td>2.11</td>\n",
       "    </tr>\n",
       "    <tr>\n",
       "      <th>9</th>\n",
       "      <td>ShoppingMall</td>\n",
       "      <td>208</td>\n",
       "      <td>2.39</td>\n",
       "    </tr>\n",
       "    <tr>\n",
       "      <th>10</th>\n",
       "      <td>Spa</td>\n",
       "      <td>183</td>\n",
       "      <td>2.11</td>\n",
       "    </tr>\n",
       "    <tr>\n",
       "      <th>11</th>\n",
       "      <td>VRDeck</td>\n",
       "      <td>188</td>\n",
       "      <td>2.16</td>\n",
       "    </tr>\n",
       "    <tr>\n",
       "      <th>12</th>\n",
       "      <td>Name</td>\n",
       "      <td>200</td>\n",
       "      <td>2.30</td>\n",
       "    </tr>\n",
       "    <tr>\n",
       "      <th>13</th>\n",
       "      <td>Transported</td>\n",
       "      <td>0</td>\n",
       "      <td>0.00</td>\n",
       "    </tr>\n",
       "  </tbody>\n",
       "</table>\n",
       "</div>"
      ],
      "text/plain": [
       "             Col  Total_NaN  Percentage_NaN\n",
       "0    PassengerId          0            0.00\n",
       "1     HomePlanet        201            2.31\n",
       "2      CryoSleep        217            2.50\n",
       "3          Cabin        199            2.29\n",
       "4    Destination        182            2.09\n",
       "5            Age        179            2.06\n",
       "6            VIP        203            2.34\n",
       "7    RoomService        181            2.08\n",
       "8      FoodCourt        183            2.11\n",
       "9   ShoppingMall        208            2.39\n",
       "10           Spa        183            2.11\n",
       "11        VRDeck        188            2.16\n",
       "12          Name        200            2.30\n",
       "13   Transported          0            0.00"
      ]
     },
     "execution_count": 8,
     "metadata": {},
     "output_type": "execute_result"
    }
   ],
   "source": [
    "print(\"NaN Values in Train Columns\")\n",
    "nan_df = pd.DataFrame()\n",
    "nan_df[\"Col\"] = train_df.columns\n",
    "nan_df[\"Total_NaN\"] = train_df.isna().sum().tolist()\n",
    "nan_df[\"Percentage_NaN\"] = round(nan_df[\"Total_NaN\"] / len(train_df), 4)  * 100\n",
    "nan_df"
   ]
  },
  {
   "cell_type": "code",
   "execution_count": 9,
   "id": "b6d55a7e",
   "metadata": {
    "execution": {
     "iopub.execute_input": "2022-03-15T15:56:33.058810Z",
     "iopub.status.busy": "2022-03-15T15:56:33.057777Z",
     "iopub.status.idle": "2022-03-15T15:56:33.082303Z",
     "shell.execute_reply": "2022-03-15T15:56:33.081507Z",
     "shell.execute_reply.started": "2022-03-14T14:10:47.743996Z"
    },
    "papermill": {
     "duration": 0.115437,
     "end_time": "2022-03-15T15:56:33.082558",
     "exception": false,
     "start_time": "2022-03-15T15:56:32.967121",
     "status": "completed"
    },
    "tags": []
   },
   "outputs": [
    {
     "name": "stdout",
     "output_type": "stream",
     "text": [
      "NaN Values in Test Columns\n"
     ]
    },
    {
     "data": {
      "text/html": [
       "<div>\n",
       "<style scoped>\n",
       "    .dataframe tbody tr th:only-of-type {\n",
       "        vertical-align: middle;\n",
       "    }\n",
       "\n",
       "    .dataframe tbody tr th {\n",
       "        vertical-align: top;\n",
       "    }\n",
       "\n",
       "    .dataframe thead th {\n",
       "        text-align: right;\n",
       "    }\n",
       "</style>\n",
       "<table border=\"1\" class=\"dataframe\">\n",
       "  <thead>\n",
       "    <tr style=\"text-align: right;\">\n",
       "      <th></th>\n",
       "      <th>Col</th>\n",
       "      <th>Total_NaN</th>\n",
       "      <th>Percentage_NaN</th>\n",
       "    </tr>\n",
       "  </thead>\n",
       "  <tbody>\n",
       "    <tr>\n",
       "      <th>0</th>\n",
       "      <td>PassengerId</td>\n",
       "      <td>0</td>\n",
       "      <td>0.00</td>\n",
       "    </tr>\n",
       "    <tr>\n",
       "      <th>1</th>\n",
       "      <td>HomePlanet</td>\n",
       "      <td>87</td>\n",
       "      <td>2.03</td>\n",
       "    </tr>\n",
       "    <tr>\n",
       "      <th>2</th>\n",
       "      <td>CryoSleep</td>\n",
       "      <td>93</td>\n",
       "      <td>2.17</td>\n",
       "    </tr>\n",
       "    <tr>\n",
       "      <th>3</th>\n",
       "      <td>Cabin</td>\n",
       "      <td>100</td>\n",
       "      <td>2.34</td>\n",
       "    </tr>\n",
       "    <tr>\n",
       "      <th>4</th>\n",
       "      <td>Destination</td>\n",
       "      <td>92</td>\n",
       "      <td>2.15</td>\n",
       "    </tr>\n",
       "    <tr>\n",
       "      <th>5</th>\n",
       "      <td>Age</td>\n",
       "      <td>91</td>\n",
       "      <td>2.13</td>\n",
       "    </tr>\n",
       "    <tr>\n",
       "      <th>6</th>\n",
       "      <td>VIP</td>\n",
       "      <td>93</td>\n",
       "      <td>2.17</td>\n",
       "    </tr>\n",
       "    <tr>\n",
       "      <th>7</th>\n",
       "      <td>RoomService</td>\n",
       "      <td>82</td>\n",
       "      <td>1.92</td>\n",
       "    </tr>\n",
       "    <tr>\n",
       "      <th>8</th>\n",
       "      <td>FoodCourt</td>\n",
       "      <td>106</td>\n",
       "      <td>2.48</td>\n",
       "    </tr>\n",
       "    <tr>\n",
       "      <th>9</th>\n",
       "      <td>ShoppingMall</td>\n",
       "      <td>98</td>\n",
       "      <td>2.29</td>\n",
       "    </tr>\n",
       "    <tr>\n",
       "      <th>10</th>\n",
       "      <td>Spa</td>\n",
       "      <td>101</td>\n",
       "      <td>2.36</td>\n",
       "    </tr>\n",
       "    <tr>\n",
       "      <th>11</th>\n",
       "      <td>VRDeck</td>\n",
       "      <td>80</td>\n",
       "      <td>1.87</td>\n",
       "    </tr>\n",
       "    <tr>\n",
       "      <th>12</th>\n",
       "      <td>Name</td>\n",
       "      <td>94</td>\n",
       "      <td>2.20</td>\n",
       "    </tr>\n",
       "  </tbody>\n",
       "</table>\n",
       "</div>"
      ],
      "text/plain": [
       "             Col  Total_NaN  Percentage_NaN\n",
       "0    PassengerId          0            0.00\n",
       "1     HomePlanet         87            2.03\n",
       "2      CryoSleep         93            2.17\n",
       "3          Cabin        100            2.34\n",
       "4    Destination         92            2.15\n",
       "5            Age         91            2.13\n",
       "6            VIP         93            2.17\n",
       "7    RoomService         82            1.92\n",
       "8      FoodCourt        106            2.48\n",
       "9   ShoppingMall         98            2.29\n",
       "10           Spa        101            2.36\n",
       "11        VRDeck         80            1.87\n",
       "12          Name         94            2.20"
      ]
     },
     "execution_count": 9,
     "metadata": {},
     "output_type": "execute_result"
    }
   ],
   "source": [
    "print(\"NaN Values in Test Columns\")\n",
    "nan_df = pd.DataFrame()\n",
    "nan_df[\"Col\"] = test_df.columns\n",
    "nan_df[\"Total_NaN\"] = test_df.isna().sum().tolist()\n",
    "nan_df[\"Percentage_NaN\"] = round(nan_df[\"Total_NaN\"] / len(test_df), 4)  * 100\n",
    "nan_df"
   ]
  },
  {
   "cell_type": "markdown",
   "id": "71604bfb",
   "metadata": {
    "papermill": {
     "duration": 0.085918,
     "end_time": "2022-03-15T15:56:33.256148",
     "exception": false,
     "start_time": "2022-03-15T15:56:33.170230",
     "status": "completed"
    },
    "tags": []
   },
   "source": [
    "### EDA: Target Y"
   ]
  },
  {
   "cell_type": "code",
   "execution_count": 10,
   "id": "417f1d14",
   "metadata": {
    "execution": {
     "iopub.execute_input": "2022-03-15T15:56:33.444650Z",
     "iopub.status.busy": "2022-03-15T15:56:33.443905Z",
     "iopub.status.idle": "2022-03-15T15:56:33.810474Z",
     "shell.execute_reply": "2022-03-15T15:56:33.809890Z",
     "shell.execute_reply.started": "2022-03-14T14:10:48.311618Z"
    },
    "papermill": {
     "duration": 0.463409,
     "end_time": "2022-03-15T15:56:33.810643",
     "exception": false,
     "start_time": "2022-03-15T15:56:33.347234",
     "status": "completed"
    },
    "tags": []
   },
   "outputs": [
    {
     "data": {
      "image/png": "[encoded data removed]",
      "text/plain": [
       "<Figure size 432x288 with 1 Axes>"
      ]
     },
     "metadata": {},
     "output_type": "display_data"
    }
   ],
   "source": [
    "colors = ['#ff9999','#66b3ff','#99ff99','#ffcc99']\n",
    "data = train_df[\"Transported\"].value_counts()\n",
    "ax = data.plot(kind=\"pie\", autopct='%1.1f%%', shadow=True, explode=[0.05, 0.05], colors=colors, legend=True, title='Transported', ylabel='', labeldistance=None)\n",
    "ax.legend(bbox_to_anchor=(1, 1.02), loc='upper left')\n",
    "plt.show()"
   ]
  },
  {
   "cell_type": "markdown",
   "id": "1e2756e4",
   "metadata": {
    "papermill": {
     "duration": 0.084568,
     "end_time": "2022-03-15T15:56:33.980017",
     "exception": false,
     "start_time": "2022-03-15T15:56:33.895449",
     "status": "completed"
    },
    "tags": []
   },
   "source": [
    "### EDA: Numerical Cols - Train Set"
   ]
  },
  {
   "cell_type": "code",
   "execution_count": 11,
   "id": "7dd4f292",
   "metadata": {
    "execution": {
     "iopub.execute_input": "2022-03-15T15:56:34.154751Z",
     "iopub.status.busy": "2022-03-15T15:56:34.154017Z",
     "iopub.status.idle": "2022-03-15T15:56:34.187562Z",
     "shell.execute_reply": "2022-03-15T15:56:34.188030Z",
     "shell.execute_reply.started": "2022-03-14T14:10:48.942871Z"
    },
    "papermill": {
     "duration": 0.121271,
     "end_time": "2022-03-15T15:56:34.188210",
     "exception": false,
     "start_time": "2022-03-15T15:56:34.066939",
     "status": "completed"
    },
    "tags": []
   },
   "outputs": [
    {
     "data": {
      "text/html": [
       "<div>\n",
       "<style scoped>\n",
       "    .dataframe tbody tr th:only-of-type {\n",
       "        vertical-align: middle;\n",
       "    }\n",
       "\n",
       "    .dataframe tbody tr th {\n",
       "        vertical-align: top;\n",
       "    }\n",
       "\n",
       "    .dataframe thead th {\n",
       "        text-align: right;\n",
       "    }\n",
       "</style>\n",
       "<table border=\"1\" class=\"dataframe\">\n",
       "  <thead>\n",
       "    <tr style=\"text-align: right;\">\n",
       "      <th></th>\n",
       "      <th>Age</th>\n",
       "      <th>RoomService</th>\n",
       "      <th>FoodCourt</th>\n",
       "      <th>ShoppingMall</th>\n",
       "      <th>Spa</th>\n",
       "      <th>VRDeck</th>\n",
       "    </tr>\n",
       "  </thead>\n",
       "  <tbody>\n",
       "    <tr>\n",
       "      <th>count</th>\n",
       "      <td>8514.000000</td>\n",
       "      <td>8512.000000</td>\n",
       "      <td>8510.000000</td>\n",
       "      <td>8485.000000</td>\n",
       "      <td>8510.000000</td>\n",
       "      <td>8505.000000</td>\n",
       "    </tr>\n",
       "    <tr>\n",
       "      <th>mean</th>\n",
       "      <td>28.827930</td>\n",
       "      <td>224.687617</td>\n",
       "      <td>458.077203</td>\n",
       "      <td>173.729169</td>\n",
       "      <td>311.138778</td>\n",
       "      <td>304.854791</td>\n",
       "    </tr>\n",
       "    <tr>\n",
       "      <th>std</th>\n",
       "      <td>14.489021</td>\n",
       "      <td>666.717663</td>\n",
       "      <td>1611.489240</td>\n",
       "      <td>604.696458</td>\n",
       "      <td>1136.705535</td>\n",
       "      <td>1145.717189</td>\n",
       "    </tr>\n",
       "    <tr>\n",
       "      <th>min</th>\n",
       "      <td>0.000000</td>\n",
       "      <td>0.000000</td>\n",
       "      <td>0.000000</td>\n",
       "      <td>0.000000</td>\n",
       "      <td>0.000000</td>\n",
       "      <td>0.000000</td>\n",
       "    </tr>\n",
       "    <tr>\n",
       "      <th>25%</th>\n",
       "      <td>19.000000</td>\n",
       "      <td>0.000000</td>\n",
       "      <td>0.000000</td>\n",
       "      <td>0.000000</td>\n",
       "      <td>0.000000</td>\n",
       "      <td>0.000000</td>\n",
       "    </tr>\n",
       "    <tr>\n",
       "      <th>50%</th>\n",
       "      <td>27.000000</td>\n",
       "      <td>0.000000</td>\n",
       "      <td>0.000000</td>\n",
       "      <td>0.000000</td>\n",
       "      <td>0.000000</td>\n",
       "      <td>0.000000</td>\n",
       "    </tr>\n",
       "    <tr>\n",
       "      <th>75%</th>\n",
       "      <td>38.000000</td>\n",
       "      <td>47.000000</td>\n",
       "      <td>76.000000</td>\n",
       "      <td>27.000000</td>\n",
       "      <td>59.000000</td>\n",
       "      <td>46.000000</td>\n",
       "    </tr>\n",
       "    <tr>\n",
       "      <th>max</th>\n",
       "      <td>79.000000</td>\n",
       "      <td>14327.000000</td>\n",
       "      <td>29813.000000</td>\n",
       "      <td>23492.000000</td>\n",
       "      <td>22408.000000</td>\n",
       "      <td>24133.000000</td>\n",
       "    </tr>\n",
       "  </tbody>\n",
       "</table>\n",
       "</div>"
      ],
      "text/plain": [
       "               Age   RoomService     FoodCourt  ShoppingMall           Spa  \\\n",
       "count  8514.000000   8512.000000   8510.000000   8485.000000   8510.000000   \n",
       "mean     28.827930    224.687617    458.077203    173.729169    311.138778   \n",
       "std      14.489021    666.717663   1611.489240    604.696458   1136.705535   \n",
       "min       0.000000      0.000000      0.000000      0.000000      0.000000   \n",
       "25%      19.000000      0.000000      0.000000      0.000000      0.000000   \n",
       "50%      27.000000      0.000000      0.000000      0.000000      0.000000   \n",
       "75%      38.000000     47.000000     76.000000     27.000000     59.000000   \n",
       "max      79.000000  14327.000000  29813.000000  23492.000000  22408.000000   \n",
       "\n",
       "             VRDeck  \n",
       "count   8505.000000  \n",
       "mean     304.854791  \n",
       "std     1145.717189  \n",
       "min        0.000000  \n",
       "25%        0.000000  \n",
       "50%        0.000000  \n",
       "75%       46.000000  \n",
       "max    24133.000000  "
      ]
     },
     "execution_count": 11,
     "metadata": {},
     "output_type": "execute_result"
    }
   ],
   "source": [
    "train_df.describe()"
   ]
  },
  {
   "cell_type": "code",
   "execution_count": 12,
   "id": "3df285f2",
   "metadata": {
    "execution": {
     "iopub.execute_input": "2022-03-15T15:56:34.366106Z",
     "iopub.status.busy": "2022-03-15T15:56:34.365414Z",
     "iopub.status.idle": "2022-03-15T15:56:34.395510Z",
     "shell.execute_reply": "2022-03-15T15:56:34.394788Z",
     "shell.execute_reply.started": "2022-03-14T14:10:49.226464Z"
    },
    "papermill": {
     "duration": 0.121266,
     "end_time": "2022-03-15T15:56:34.395669",
     "exception": false,
     "start_time": "2022-03-15T15:56:34.274403",
     "status": "completed"
    },
    "tags": []
   },
   "outputs": [
    {
     "data": {
      "text/html": [
       "<div>\n",
       "<style scoped>\n",
       "    .dataframe tbody tr th:only-of-type {\n",
       "        vertical-align: middle;\n",
       "    }\n",
       "\n",
       "    .dataframe tbody tr th {\n",
       "        vertical-align: top;\n",
       "    }\n",
       "\n",
       "    .dataframe thead th {\n",
       "        text-align: right;\n",
       "    }\n",
       "</style>\n",
       "<table border=\"1\" class=\"dataframe\">\n",
       "  <thead>\n",
       "    <tr style=\"text-align: right;\">\n",
       "      <th></th>\n",
       "      <th>Age</th>\n",
       "      <th>RoomService</th>\n",
       "      <th>FoodCourt</th>\n",
       "      <th>ShoppingMall</th>\n",
       "      <th>Spa</th>\n",
       "      <th>VRDeck</th>\n",
       "    </tr>\n",
       "  </thead>\n",
       "  <tbody>\n",
       "    <tr>\n",
       "      <th>count</th>\n",
       "      <td>4186.000000</td>\n",
       "      <td>4195.000000</td>\n",
       "      <td>4171.000000</td>\n",
       "      <td>4179.000000</td>\n",
       "      <td>4176.000000</td>\n",
       "      <td>4197.000000</td>\n",
       "    </tr>\n",
       "    <tr>\n",
       "      <th>mean</th>\n",
       "      <td>28.658146</td>\n",
       "      <td>219.266269</td>\n",
       "      <td>439.484296</td>\n",
       "      <td>177.295525</td>\n",
       "      <td>303.052443</td>\n",
       "      <td>310.710031</td>\n",
       "    </tr>\n",
       "    <tr>\n",
       "      <th>std</th>\n",
       "      <td>14.179072</td>\n",
       "      <td>607.011289</td>\n",
       "      <td>1527.663045</td>\n",
       "      <td>560.821123</td>\n",
       "      <td>1117.186015</td>\n",
       "      <td>1246.994742</td>\n",
       "    </tr>\n",
       "    <tr>\n",
       "      <th>min</th>\n",
       "      <td>0.000000</td>\n",
       "      <td>0.000000</td>\n",
       "      <td>0.000000</td>\n",
       "      <td>0.000000</td>\n",
       "      <td>0.000000</td>\n",
       "      <td>0.000000</td>\n",
       "    </tr>\n",
       "    <tr>\n",
       "      <th>25%</th>\n",
       "      <td>19.000000</td>\n",
       "      <td>0.000000</td>\n",
       "      <td>0.000000</td>\n",
       "      <td>0.000000</td>\n",
       "      <td>0.000000</td>\n",
       "      <td>0.000000</td>\n",
       "    </tr>\n",
       "    <tr>\n",
       "      <th>50%</th>\n",
       "      <td>26.000000</td>\n",
       "      <td>0.000000</td>\n",
       "      <td>0.000000</td>\n",
       "      <td>0.000000</td>\n",
       "      <td>0.000000</td>\n",
       "      <td>0.000000</td>\n",
       "    </tr>\n",
       "    <tr>\n",
       "      <th>75%</th>\n",
       "      <td>37.000000</td>\n",
       "      <td>53.000000</td>\n",
       "      <td>78.000000</td>\n",
       "      <td>33.000000</td>\n",
       "      <td>50.000000</td>\n",
       "      <td>36.000000</td>\n",
       "    </tr>\n",
       "    <tr>\n",
       "      <th>max</th>\n",
       "      <td>79.000000</td>\n",
       "      <td>11567.000000</td>\n",
       "      <td>25273.000000</td>\n",
       "      <td>8292.000000</td>\n",
       "      <td>19844.000000</td>\n",
       "      <td>22272.000000</td>\n",
       "    </tr>\n",
       "  </tbody>\n",
       "</table>\n",
       "</div>"
      ],
      "text/plain": [
       "               Age   RoomService     FoodCourt  ShoppingMall           Spa  \\\n",
       "count  4186.000000   4195.000000   4171.000000   4179.000000   4176.000000   \n",
       "mean     28.658146    219.266269    439.484296    177.295525    303.052443   \n",
       "std      14.179072    607.011289   1527.663045    560.821123   1117.186015   \n",
       "min       0.000000      0.000000      0.000000      0.000000      0.000000   \n",
       "25%      19.000000      0.000000      0.000000      0.000000      0.000000   \n",
       "50%      26.000000      0.000000      0.000000      0.000000      0.000000   \n",
       "75%      37.000000     53.000000     78.000000     33.000000     50.000000   \n",
       "max      79.000000  11567.000000  25273.000000   8292.000000  19844.000000   \n",
       "\n",
       "             VRDeck  \n",
       "count   4197.000000  \n",
       "mean     310.710031  \n",
       "std     1246.994742  \n",
       "min        0.000000  \n",
       "25%        0.000000  \n",
       "50%        0.000000  \n",
       "75%       36.000000  \n",
       "max    22272.000000  "
      ]
     },
     "execution_count": 12,
     "metadata": {},
     "output_type": "execute_result"
    }
   ],
   "source": [
    "test_df.describe()"
   ]
  },
  {
   "cell_type": "code",
   "execution_count": 13,
   "id": "67ad64f0",
   "metadata": {
    "execution": {
     "iopub.execute_input": "2022-03-15T15:56:34.578876Z",
     "iopub.status.busy": "2022-03-15T15:56:34.578153Z",
     "iopub.status.idle": "2022-03-15T15:56:34.918924Z",
     "shell.execute_reply": "2022-03-15T15:56:34.917950Z",
     "shell.execute_reply.started": "2022-03-14T14:10:49.706041Z"
    },
    "papermill": {
     "duration": 0.432448,
     "end_time": "2022-03-15T15:56:34.919114",
     "exception": false,
     "start_time": "2022-03-15T15:56:34.486666",
     "status": "completed"
    },
    "tags": []
   },
   "outputs": [
    {
     "name": "stderr",
     "output_type": "stream",
     "text": [
      "/opt/conda/lib/python3.7/site-packages/seaborn/distributions.py:2619: FutureWarning: `distplot` is a deprecated function and will be removed in a future version. Please adapt your code to use either `displot` (a figure-level function with similar flexibility) or `histplot` (an axes-level function for histograms).\n",
      "  warnings.warn(msg, FutureWarning)\n"
     ]
    },
    {
     "data": {
      "image/png": "[encoded data removed]",
      "text/plain": [
       "<Figure size 720x360 with 1 Axes>"
      ]
     },
     "metadata": {
      "needs_background": "light"
     },
     "output_type": "display_data"
    }
   ],
   "source": [
    "plt.figure(figsize=(10,5))\n",
    "sns.distplot(train_df[\"Age\"])\n",
    "plt.title(\"Age Distribution\")\n",
    "plt.show()"
   ]
  },
  {
   "cell_type": "code",
   "execution_count": 14,
   "id": "3d10d951",
   "metadata": {
    "execution": {
     "iopub.execute_input": "2022-03-15T15:56:35.101600Z",
     "iopub.status.busy": "2022-03-15T15:56:35.100777Z",
     "iopub.status.idle": "2022-03-15T15:56:35.448386Z",
     "shell.execute_reply": "2022-03-15T15:56:35.448932Z",
     "shell.execute_reply.started": "2022-03-14T14:10:50.183277Z"
    },
    "papermill": {
     "duration": 0.440925,
     "end_time": "2022-03-15T15:56:35.449114",
     "exception": false,
     "start_time": "2022-03-15T15:56:35.008189",
     "status": "completed"
    },
    "tags": []
   },
   "outputs": [
    {
     "name": "stderr",
     "output_type": "stream",
     "text": [
      "/opt/conda/lib/python3.7/site-packages/seaborn/distributions.py:2619: FutureWarning: `distplot` is a deprecated function and will be removed in a future version. Please adapt your code to use either `displot` (a figure-level function with similar flexibility) or `histplot` (an axes-level function for histograms).\n",
      "  warnings.warn(msg, FutureWarning)\n"
     ]
    },
    {
     "data": {
      "image/png": "[encoded data removed]",
      "text/plain": [
       "<Figure size 720x360 with 1 Axes>"
      ]
     },
     "metadata": {
      "needs_background": "light"
     },
     "output_type": "display_data"
    }
   ],
   "source": [
    "plt.figure(figsize=(10,5))\n",
    "sns.distplot(train_df[\"RoomService\"])\n",
    "plt.title(\"RoomService Distribution\")\n",
    "plt.show()"
   ]
  },
  {
   "cell_type": "code",
   "execution_count": 15,
   "id": "bd337491",
   "metadata": {
    "execution": {
     "iopub.execute_input": "2022-03-15T15:56:35.669318Z",
     "iopub.status.busy": "2022-03-15T15:56:35.668238Z",
     "iopub.status.idle": "2022-03-15T15:56:35.974282Z",
     "shell.execute_reply": "2022-03-15T15:56:35.974890Z",
     "shell.execute_reply.started": "2022-03-14T14:10:50.532199Z"
    },
    "papermill": {
     "duration": 0.428096,
     "end_time": "2022-03-15T15:56:35.975077",
     "exception": false,
     "start_time": "2022-03-15T15:56:35.546981",
     "status": "completed"
    },
    "tags": []
   },
   "outputs": [
    {
     "name": "stderr",
     "output_type": "stream",
     "text": [
      "/opt/conda/lib/python3.7/site-packages/seaborn/distributions.py:2619: FutureWarning: `distplot` is a deprecated function and will be removed in a future version. Please adapt your code to use either `displot` (a figure-level function with similar flexibility) or `histplot` (an axes-level function for histograms).\n",
      "  warnings.warn(msg, FutureWarning)\n"
     ]
    },
    {
     "data": {
      "image/png": "[encoded data removed]",
      "text/plain": [
       "<Figure size 720x360 with 1 Axes>"
      ]
     },
     "metadata": {
      "needs_background": "light"
     },
     "output_type": "display_data"
    }
   ],
   "source": [
    "plt.figure(figsize=(10,5))\n",
    "sns.distplot(train_df[\"FoodCourt\"])\n",
    "plt.title(\"FoodCourt Distribution\")\n",
    "plt.show()"
   ]
  },
  {
   "cell_type": "code",
   "execution_count": 16,
   "id": "5aa6aa7f",
   "metadata": {
    "execution": {
     "iopub.execute_input": "2022-03-15T15:56:36.164774Z",
     "iopub.status.busy": "2022-03-15T15:56:36.163690Z",
     "iopub.status.idle": "2022-03-15T15:56:36.486450Z",
     "shell.execute_reply": "2022-03-15T15:56:36.487196Z",
     "shell.execute_reply.started": "2022-03-14T14:10:50.903842Z"
    },
    "papermill": {
     "duration": 0.419636,
     "end_time": "2022-03-15T15:56:36.487445",
     "exception": false,
     "start_time": "2022-03-15T15:56:36.067809",
     "status": "completed"
    },
    "tags": []
   },
   "outputs": [
    {
     "name": "stderr",
     "output_type": "stream",
     "text": [
      "/opt/conda/lib/python3.7/site-packages/seaborn/distributions.py:2619: FutureWarning: `distplot` is a deprecated function and will be removed in a future version. Please adapt your code to use either `displot` (a figure-level function with similar flexibility) or `histplot` (an axes-level function for histograms).\n",
      "  warnings.warn(msg, FutureWarning)\n"
     ]
    },
    {
     "data": {
      "image/png": "[encoded data removed]",
      "text/plain": [
       "<Figure size 720x360 with 1 Axes>"
      ]
     },
     "metadata": {
      "needs_background": "light"
     },
     "output_type": "display_data"
    }
   ],
   "source": [
    "plt.figure(figsize=(10,5))\n",
    "sns.distplot(train_df[\"ShoppingMall\"])\n",
    "plt.title(\"ShoppingMall Distribution\")\n",
    "plt.show()"
   ]
  },
  {
   "cell_type": "code",
   "execution_count": 17,
   "id": "7c897c71",
   "metadata": {
    "execution": {
     "iopub.execute_input": "2022-03-15T15:56:36.680024Z",
     "iopub.status.busy": "2022-03-15T15:56:36.679314Z",
     "iopub.status.idle": "2022-03-15T15:56:37.022971Z",
     "shell.execute_reply": "2022-03-15T15:56:37.022409Z",
     "shell.execute_reply.started": "2022-03-14T14:10:51.543815Z"
    },
    "papermill": {
     "duration": 0.441037,
     "end_time": "2022-03-15T15:56:37.023133",
     "exception": false,
     "start_time": "2022-03-15T15:56:36.582096",
     "status": "completed"
    },
    "tags": []
   },
   "outputs": [
    {
     "name": "stderr",
     "output_type": "stream",
     "text": [
      "/opt/conda/lib/python3.7/site-packages/seaborn/distributions.py:2619: FutureWarning: `distplot` is a deprecated function and will be removed in a future version. Please adapt your code to use either `displot` (a figure-level function with similar flexibility) or `histplot` (an axes-level function for histograms).\n",
      "  warnings.warn(msg, FutureWarning)\n"
     ]
    },
    {
     "data": {
      "image/png": "[encoded data removed]",
      "text/plain": [
       "<Figure size 720x360 with 1 Axes>"
      ]
     },
     "metadata": {
      "needs_background": "light"
     },
     "output_type": "display_data"
    }
   ],
   "source": [
    "plt.figure(figsize=(10,5))\n",
    "sns.distplot(train_df[\"Spa\"])\n",
    "plt.title(\"Spa Distribution\")\n",
    "plt.show()"
   ]
  },
  {
   "cell_type": "code",
   "execution_count": 18,
   "id": "81d774e4",
   "metadata": {
    "execution": {
     "iopub.execute_input": "2022-03-15T15:56:37.216902Z",
     "iopub.status.busy": "2022-03-15T15:56:37.216179Z",
     "iopub.status.idle": "2022-03-15T15:56:37.558788Z",
     "shell.execute_reply": "2022-03-15T15:56:37.559381Z",
     "shell.execute_reply.started": "2022-03-14T14:10:51.89524Z"
    },
    "papermill": {
     "duration": 0.442112,
     "end_time": "2022-03-15T15:56:37.559577",
     "exception": false,
     "start_time": "2022-03-15T15:56:37.117465",
     "status": "completed"
    },
    "tags": []
   },
   "outputs": [
    {
     "name": "stderr",
     "output_type": "stream",
     "text": [
      "/opt/conda/lib/python3.7/site-packages/seaborn/distributions.py:2619: FutureWarning: `distplot` is a deprecated function and will be removed in a future version. Please adapt your code to use either `displot` (a figure-level function with similar flexibility) or `histplot` (an axes-level function for histograms).\n",
      "  warnings.warn(msg, FutureWarning)\n"
     ]
    },
    {
     "data": {
      "image/png": "[encoded data removed]",
      "text/plain": [
       "<Figure size 720x360 with 1 Axes>"
      ]
     },
     "metadata": {
      "needs_background": "light"
     },
     "output_type": "display_data"
    }
   ],
   "source": [
    "plt.figure(figsize=(10,5))\n",
    "sns.distplot(train_df[\"VRDeck\"])\n",
    "plt.title(\"VRDeck Distribution\")\n",
    "plt.show()"
   ]
  },
  {
   "cell_type": "markdown",
   "id": "5aa1f365",
   "metadata": {
    "papermill": {
     "duration": 0.098152,
     "end_time": "2022-03-15T15:56:37.755717",
     "exception": false,
     "start_time": "2022-03-15T15:56:37.657565",
     "status": "completed"
    },
    "tags": []
   },
   "source": [
    "### EDA : Numerical Cols - Test Set"
   ]
  },
  {
   "cell_type": "code",
   "execution_count": 19,
   "id": "f058770c",
   "metadata": {
    "execution": {
     "iopub.execute_input": "2022-03-15T15:56:37.953060Z",
     "iopub.status.busy": "2022-03-15T15:56:37.952342Z",
     "iopub.status.idle": "2022-03-15T15:56:38.241725Z",
     "shell.execute_reply": "2022-03-15T15:56:38.241076Z",
     "shell.execute_reply.started": "2022-03-14T14:10:57.50669Z"
    },
    "papermill": {
     "duration": 0.388076,
     "end_time": "2022-03-15T15:56:38.241869",
     "exception": false,
     "start_time": "2022-03-15T15:56:37.853793",
     "status": "completed"
    },
    "tags": []
   },
   "outputs": [
    {
     "name": "stderr",
     "output_type": "stream",
     "text": [
      "/opt/conda/lib/python3.7/site-packages/seaborn/distributions.py:2619: FutureWarning: `distplot` is a deprecated function and will be removed in a future version. Please adapt your code to use either `displot` (a figure-level function with similar flexibility) or `histplot` (an axes-level function for histograms).\n",
      "  warnings.warn(msg, FutureWarning)\n"
     ]
    },
    {
     "data": {
      "image/png": "[encoded data removed]",
      "text/plain": [
       "<Figure size 720x360 with 1 Axes>"
      ]
     },
     "metadata": {
      "needs_background": "light"
     },
     "output_type": "display_data"
    }
   ],
   "source": [
    "plt.figure(figsize=(10,5))\n",
    "sns.distplot(test_df[\"Age\"])\n",
    "plt.title(\"Age Distribution\")\n",
    "plt.show()"
   ]
  },
  {
   "cell_type": "code",
   "execution_count": 20,
   "id": "9be5a283",
   "metadata": {
    "execution": {
     "iopub.execute_input": "2022-03-15T15:56:38.461865Z",
     "iopub.status.busy": "2022-03-15T15:56:38.457642Z",
     "iopub.status.idle": "2022-03-15T15:56:38.780722Z",
     "shell.execute_reply": "2022-03-15T15:56:38.781266Z",
     "shell.execute_reply.started": "2022-03-14T14:10:57.788701Z"
    },
    "papermill": {
     "duration": 0.437917,
     "end_time": "2022-03-15T15:56:38.781495",
     "exception": false,
     "start_time": "2022-03-15T15:56:38.343578",
     "status": "completed"
    },
    "tags": []
   },
   "outputs": [
    {
     "name": "stderr",
     "output_type": "stream",
     "text": [
      "/opt/conda/lib/python3.7/site-packages/seaborn/distributions.py:2619: FutureWarning: `distplot` is a deprecated function and will be removed in a future version. Please adapt your code to use either `displot` (a figure-level function with similar flexibility) or `histplot` (an axes-level function for histograms).\n",
      "  warnings.warn(msg, FutureWarning)\n"
     ]
    },
    {
     "data": {
      "image/png": "[encoded data removed]",
      "text/plain": [
       "<Figure size 720x360 with 1 Axes>"
      ]
     },
     "metadata": {
      "needs_background": "light"
     },
     "output_type": "display_data"
    }
   ],
   "source": [
    "plt.figure(figsize=(10,5))\n",
    "sns.distplot(test_df[\"RoomService\"])\n",
    "plt.title(\"RoomService Distribution\")\n",
    "plt.show()"
   ]
  },
  {
   "cell_type": "code",
   "execution_count": 21,
   "id": "d69f223c",
   "metadata": {
    "execution": {
     "iopub.execute_input": "2022-03-15T15:56:38.988019Z",
     "iopub.status.busy": "2022-03-15T15:56:38.987273Z",
     "iopub.status.idle": "2022-03-15T15:56:39.315755Z",
     "shell.execute_reply": "2022-03-15T15:56:39.315044Z",
     "shell.execute_reply.started": "2022-03-14T14:10:58.119254Z"
    },
    "papermill": {
     "duration": 0.434549,
     "end_time": "2022-03-15T15:56:39.315912",
     "exception": false,
     "start_time": "2022-03-15T15:56:38.881363",
     "status": "completed"
    },
    "tags": []
   },
   "outputs": [
    {
     "name": "stderr",
     "output_type": "stream",
     "text": [
      "/opt/conda/lib/python3.7/site-packages/seaborn/distributions.py:2619: FutureWarning: `distplot` is a deprecated function and will be removed in a future version. Please adapt your code to use either `displot` (a figure-level function with similar flexibility) or `histplot` (an axes-level function for histograms).\n",
      "  warnings.warn(msg, FutureWarning)\n"
     ]
    },
    {
     "data": {
      "image/png": "[encoded data removed]",
      "text/plain": [
       "<Figure size 720x360 with 1 Axes>"
      ]
     },
     "metadata": {
      "needs_background": "light"
     },
     "output_type": "display_data"
    }
   ],
   "source": [
    "plt.figure(figsize=(10,5))\n",
    "sns.distplot(test_df[\"FoodCourt\"])\n",
    "plt.title(\"FoodCourt Distribution\")\n",
    "plt.show()"
   ]
  },
  {
   "cell_type": "code",
   "execution_count": 22,
   "id": "d0d340e5",
   "metadata": {
    "execution": {
     "iopub.execute_input": "2022-03-15T15:56:39.529531Z",
     "iopub.status.busy": "2022-03-15T15:56:39.528270Z",
     "iopub.status.idle": "2022-03-15T15:57:07.020582Z",
     "shell.execute_reply": "2022-03-15T15:57:07.019961Z",
     "shell.execute_reply.started": "2022-03-15T14:45:57.743384Z"
    },
    "papermill": {
     "duration": 27.602512,
     "end_time": "2022-03-15T15:57:07.020923",
     "exception": false,
     "start_time": "2022-03-15T15:56:39.418411",
     "status": "completed"
    },
    "tags": []
   },
   "outputs": [
    {
     "data": {
      "image/png": "[encoded data removed]",
      "text/plain": [
       "<Figure size 720x360 with 1 Axes>"
      ]
     },
     "metadata": {
      "needs_background": "light"
     },
     "output_type": "display_data"
    }
   ],
   "source": [
    "# plt.figure(figsize=(10,5))\n",
    "# sns.distplot(test_df[\"ShoppingMall\"])\n",
    "# plt.title(\"ShoppingMall Distribution\")\n",
    "# plt.show()\n",
    "\n",
    "plt.figure(figsize=(10,5))\n",
    "temp = train_df.groupby([\"ShoppingMall\", \"Transported\"]).size().reset_index(name=\"Freq\").sort_values(by=[\"Freq\"], ascending=False)\n",
    "sns.barplot(x=\"ShoppingMall\", hue=\"Transported\", y=\"Freq\", data=temp, palette=[\"cyan\",\"hotpink\"])\n",
    "plt.title(\"ShoppingMall Distribution\")\n",
    "plt.show()"
   ]
  },
  {
   "cell_type": "code",
   "execution_count": 23,
   "id": "908c3b1a",
   "metadata": {
    "execution": {
     "iopub.execute_input": "2022-03-15T15:57:07.232710Z",
     "iopub.status.busy": "2022-03-15T15:57:07.232015Z",
     "iopub.status.idle": "2022-03-15T15:57:07.559952Z",
     "shell.execute_reply": "2022-03-15T15:57:07.559251Z",
     "shell.execute_reply.started": "2022-03-14T14:10:58.766577Z"
    },
    "papermill": {
     "duration": 0.436598,
     "end_time": "2022-03-15T15:57:07.560112",
     "exception": false,
     "start_time": "2022-03-15T15:57:07.123514",
     "status": "completed"
    },
    "tags": []
   },
   "outputs": [
    {
     "name": "stderr",
     "output_type": "stream",
     "text": [
      "/opt/conda/lib/python3.7/site-packages/seaborn/distributions.py:2619: FutureWarning: `distplot` is a deprecated function and will be removed in a future version. Please adapt your code to use either `displot` (a figure-level function with similar flexibility) or `histplot` (an axes-level function for histograms).\n",
      "  warnings.warn(msg, FutureWarning)\n"
     ]
    },
    {
     "data": {
      "image/png": "[encoded data removed]",
      "text/plain": [
       "<Figure size 720x360 with 1 Axes>"
      ]
     },
     "metadata": {
      "needs_background": "light"
     },
     "output_type": "display_data"
    }
   ],
   "source": [
    "plt.figure(figsize=(10,5))\n",
    "sns.distplot(test_df[\"Spa\"])\n",
    "plt.title(\"Spa Distribution\")\n",
    "plt.show()"
   ]
  },
  {
   "cell_type": "code",
   "execution_count": 24,
   "id": "cf4bf986",
   "metadata": {
    "execution": {
     "iopub.execute_input": "2022-03-15T15:57:07.772717Z",
     "iopub.status.busy": "2022-03-15T15:57:07.771615Z",
     "iopub.status.idle": "2022-03-15T15:57:08.092603Z",
     "shell.execute_reply": "2022-03-15T15:57:08.093122Z",
     "shell.execute_reply.started": "2022-03-14T14:10:59.097257Z"
    },
    "papermill": {
     "duration": 0.4287,
     "end_time": "2022-03-15T15:57:08.093299",
     "exception": false,
     "start_time": "2022-03-15T15:57:07.664599",
     "status": "completed"
    },
    "tags": []
   },
   "outputs": [
    {
     "name": "stderr",
     "output_type": "stream",
     "text": [
      "/opt/conda/lib/python3.7/site-packages/seaborn/distributions.py:2619: FutureWarning: `distplot` is a deprecated function and will be removed in a future version. Please adapt your code to use either `displot` (a figure-level function with similar flexibility) or `histplot` (an axes-level function for histograms).\n",
      "  warnings.warn(msg, FutureWarning)\n"
     ]
    },
    {
     "data": {
      "image/png": "[encoded data removed]",
      "text/plain": [
       "<Figure size 720x360 with 1 Axes>"
      ]
     },
     "metadata": {
      "needs_background": "light"
     },
     "output_type": "display_data"
    }
   ],
   "source": [
    "plt.figure(figsize=(10,5))\n",
    "sns.distplot(test_df[\"VRDeck\"])\n",
    "plt.title(\"VRDeck Distribution\")\n",
    "plt.show()"
   ]
  },
  {
   "cell_type": "markdown",
   "id": "6ce24e16",
   "metadata": {
    "papermill": {
     "duration": 0.105825,
     "end_time": "2022-03-15T15:57:08.301540",
     "exception": false,
     "start_time": "2022-03-15T15:57:08.195715",
     "status": "completed"
    },
    "tags": []
   },
   "source": [
    "### EDA: Categorical Cols - Train Set"
   ]
  },
  {
   "cell_type": "code",
   "execution_count": 25,
   "id": "315b44b0",
   "metadata": {
    "execution": {
     "iopub.execute_input": "2022-03-15T15:57:08.520103Z",
     "iopub.status.busy": "2022-03-15T15:57:08.519101Z",
     "iopub.status.idle": "2022-03-15T15:57:08.528001Z",
     "shell.execute_reply": "2022-03-15T15:57:08.528888Z",
     "shell.execute_reply.started": "2022-03-14T14:11:03.25577Z"
    },
    "papermill": {
     "duration": 0.123099,
     "end_time": "2022-03-15T15:57:08.529162",
     "exception": false,
     "start_time": "2022-03-15T15:57:08.406063",
     "status": "completed"
    },
    "tags": []
   },
   "outputs": [
    {
     "data": {
      "text/plain": [
       "['PassengerId',\n",
       " 'HomePlanet',\n",
       " 'CryoSleep',\n",
       " 'Cabin',\n",
       " 'Destination',\n",
       " 'VIP',\n",
       " 'Name']"
      ]
     },
     "execution_count": 25,
     "metadata": {},
     "output_type": "execute_result"
    }
   ],
   "source": [
    "train_df.select_dtypes(include=\"object\").columns.tolist()"
   ]
  },
  {
   "cell_type": "code",
   "execution_count": 26,
   "id": "8fb8bb9d",
   "metadata": {
    "execution": {
     "iopub.execute_input": "2022-03-15T15:57:08.780870Z",
     "iopub.status.busy": "2022-03-15T15:57:08.778366Z",
     "iopub.status.idle": "2022-03-15T15:57:08.787116Z",
     "shell.execute_reply": "2022-03-15T15:57:08.787854Z",
     "shell.execute_reply.started": "2022-03-14T14:11:04.007731Z"
    },
    "papermill": {
     "duration": 0.121861,
     "end_time": "2022-03-15T15:57:08.788047",
     "exception": false,
     "start_time": "2022-03-15T15:57:08.666186",
     "status": "completed"
    },
    "tags": []
   },
   "outputs": [
    {
     "data": {
      "text/plain": [
       "['PassengerId',\n",
       " 'HomePlanet',\n",
       " 'CryoSleep',\n",
       " 'Cabin',\n",
       " 'Destination',\n",
       " 'VIP',\n",
       " 'Name']"
      ]
     },
     "execution_count": 26,
     "metadata": {},
     "output_type": "execute_result"
    }
   ],
   "source": [
    "test_df.select_dtypes(include=\"object\").columns.tolist()"
   ]
  },
  {
   "cell_type": "code",
   "execution_count": 27,
   "id": "bc96d69f",
   "metadata": {
    "execution": {
     "iopub.execute_input": "2022-03-15T15:57:09.015958Z",
     "iopub.status.busy": "2022-03-15T15:57:09.014851Z",
     "iopub.status.idle": "2022-03-15T15:57:09.029942Z",
     "shell.execute_reply": "2022-03-15T15:57:09.029285Z",
     "shell.execute_reply.started": "2022-03-14T14:11:04.584038Z"
    },
    "papermill": {
     "duration": 0.130236,
     "end_time": "2022-03-15T15:57:09.030113",
     "exception": false,
     "start_time": "2022-03-15T15:57:08.899877",
     "status": "completed"
    },
    "tags": []
   },
   "outputs": [
    {
     "data": {
      "text/plain": [
       "0001_01    1\n",
       "6136_01    1\n",
       "6141_01    1\n",
       "6139_06    1\n",
       "6139_05    1\n",
       "          ..\n",
       "3126_01    1\n",
       "3124_03    1\n",
       "3124_02    1\n",
       "3124_01    1\n",
       "9280_02    1\n",
       "Name: PassengerId, Length: 8693, dtype: int64"
      ]
     },
     "execution_count": 27,
     "metadata": {},
     "output_type": "execute_result"
    }
   ],
   "source": [
    "train_df[\"PassengerId\"].value_counts()"
   ]
  },
  {
   "cell_type": "code",
   "execution_count": 28,
   "id": "531f71bc",
   "metadata": {
    "execution": {
     "iopub.execute_input": "2022-03-15T15:57:09.258615Z",
     "iopub.status.busy": "2022-03-15T15:57:09.257478Z",
     "iopub.status.idle": "2022-03-15T15:57:09.271938Z",
     "shell.execute_reply": "2022-03-15T15:57:09.272606Z",
     "shell.execute_reply.started": "2022-03-14T14:11:05.471411Z"
    },
    "papermill": {
     "duration": 0.131571,
     "end_time": "2022-03-15T15:57:09.272815",
     "exception": false,
     "start_time": "2022-03-15T15:57:09.141244",
     "status": "completed"
    },
    "tags": []
   },
   "outputs": [
    {
     "data": {
      "text/plain": [
       "Gollux Reedall        2\n",
       "Elaney Webstephrey    2\n",
       "Grake Porki           2\n",
       "Sus Coolez            2\n",
       "Apix Wala             2\n",
       "                     ..\n",
       "Jamela Griffy         1\n",
       "Hardy Griffy          1\n",
       "Salley Mckinn         1\n",
       "Mall Frasp            1\n",
       "Propsh Hontichre      1\n",
       "Name: Name, Length: 8473, dtype: int64"
      ]
     },
     "execution_count": 28,
     "metadata": {},
     "output_type": "execute_result"
    }
   ],
   "source": [
    "train_df[\"Name\"].value_counts()"
   ]
  },
  {
   "cell_type": "code",
   "execution_count": 29,
   "id": "d9d50bf9",
   "metadata": {
    "execution": {
     "iopub.execute_input": "2022-03-15T15:57:09.503516Z",
     "iopub.status.busy": "2022-03-15T15:57:09.501492Z",
     "iopub.status.idle": "2022-03-15T15:57:09.515211Z",
     "shell.execute_reply": "2022-03-15T15:57:09.515833Z",
     "shell.execute_reply.started": "2022-03-14T14:11:08.567061Z"
    },
    "papermill": {
     "duration": 0.12853,
     "end_time": "2022-03-15T15:57:09.516046",
     "exception": false,
     "start_time": "2022-03-15T15:57:09.387516",
     "status": "completed"
    },
    "tags": []
   },
   "outputs": [
    {
     "data": {
      "text/plain": [
       "G/734/S     8\n",
       "G/109/P     7\n",
       "B/201/P     7\n",
       "G/1368/P    7\n",
       "G/981/S     7\n",
       "           ..\n",
       "G/556/P     1\n",
       "E/231/S     1\n",
       "G/545/S     1\n",
       "G/543/S     1\n",
       "F/947/P     1\n",
       "Name: Cabin, Length: 6560, dtype: int64"
      ]
     },
     "execution_count": 29,
     "metadata": {},
     "output_type": "execute_result"
    }
   ],
   "source": [
    "train_df[\"Cabin\"].value_counts()"
   ]
  },
  {
   "cell_type": "code",
   "execution_count": 30,
   "id": "bcf1b822",
   "metadata": {
    "execution": {
     "iopub.execute_input": "2022-03-15T15:57:09.751195Z",
     "iopub.status.busy": "2022-03-15T15:57:09.745485Z",
     "iopub.status.idle": "2022-03-15T15:57:09.946948Z",
     "shell.execute_reply": "2022-03-15T15:57:09.947511Z",
     "shell.execute_reply.started": "2022-03-14T14:11:09.263658Z"
    },
    "papermill": {
     "duration": 0.313673,
     "end_time": "2022-03-15T15:57:09.947714",
     "exception": false,
     "start_time": "2022-03-15T15:57:09.634041",
     "status": "completed"
    },
    "tags": []
   },
   "outputs": [
    {
     "data": {
      "image/png": "[encoded data removed]",
      "text/plain": [
       "<Figure size 720x360 with 1 Axes>"
      ]
     },
     "metadata": {
      "needs_background": "light"
     },
     "output_type": "display_data"
    }
   ],
   "source": [
    "plt.figure(figsize=(10,5))\n",
    "temp = train_df.groupby([\"HomePlanet\", \"Transported\"]).size().reset_index(name=\"Freq\").sort_values(by=[\"Freq\"], ascending=False)\n",
    "sns.barplot(x=\"HomePlanet\", hue=\"Transported\", y=\"Freq\", data=temp, palette=[\"cyan\",\"hotpink\"])\n",
    "plt.title(\"HomePlanet per Transported Status\")\n",
    "plt.show()"
   ]
  },
  {
   "cell_type": "code",
   "execution_count": 31,
   "id": "00e6680e",
   "metadata": {
    "execution": {
     "iopub.execute_input": "2022-03-15T15:57:10.174404Z",
     "iopub.status.busy": "2022-03-15T15:57:10.173259Z",
     "iopub.status.idle": "2022-03-15T15:57:10.373170Z",
     "shell.execute_reply": "2022-03-15T15:57:10.372260Z",
     "shell.execute_reply.started": "2022-03-14T14:11:11.544685Z"
    },
    "papermill": {
     "duration": 0.312846,
     "end_time": "2022-03-15T15:57:10.373375",
     "exception": false,
     "start_time": "2022-03-15T15:57:10.060529",
     "status": "completed"
    },
    "tags": []
   },
   "outputs": [
    {
     "data": {
      "image/png": "[encoded data removed]",
      "text/plain": [
       "<Figure size 720x360 with 1 Axes>"
      ]
     },
     "metadata": {
      "needs_background": "light"
     },
     "output_type": "display_data"
    }
   ],
   "source": [
    "plt.figure(figsize=(10,5))\n",
    "temp = train_df.groupby([\"Destination\", \"Transported\"]).size().reset_index(name=\"Freq\").sort_values(by=[\"Freq\"], ascending=False)\n",
    "sns.barplot(x=\"Destination\", hue=\"Transported\", y=\"Freq\", data=temp, palette=[\"cyan\",\"hotpink\"])\n",
    "plt.title(\"Destination per Transported Status\")\n",
    "plt.show()"
   ]
  },
  {
   "cell_type": "code",
   "execution_count": 32,
   "id": "0a06af32",
   "metadata": {
    "execution": {
     "iopub.execute_input": "2022-03-15T15:57:10.604570Z",
     "iopub.status.busy": "2022-03-15T15:57:10.600373Z",
     "iopub.status.idle": "2022-03-15T15:57:10.844341Z",
     "shell.execute_reply": "2022-03-15T15:57:10.843803Z",
     "shell.execute_reply.started": "2022-03-14T14:11:11.782922Z"
    },
    "papermill": {
     "duration": 0.356372,
     "end_time": "2022-03-15T15:57:10.844493",
     "exception": false,
     "start_time": "2022-03-15T15:57:10.488121",
     "status": "completed"
    },
    "tags": []
   },
   "outputs": [
    {
     "data": {
      "image/png": "[encoded data removed]",
      "text/plain": [
       "<Figure size 720x360 with 1 Axes>"
      ]
     },
     "metadata": {
      "needs_background": "light"
     },
     "output_type": "display_data"
    }
   ],
   "source": [
    "plt.figure(figsize=(10,5))\n",
    "temp = train_df[train_df[\"HomePlanet\"] == \"Earth\"].groupby([\"Destination\", \"Transported\"]).size().reset_index(name=\"Freq\").sort_values(by=[\"Freq\"], ascending=False)\n",
    "sns.barplot(x=\"Destination\", hue=\"Transported\", y=\"Freq\", data=temp, palette=[\"cyan\",\"hotpink\"])\n",
    "plt.title(\"Destination from Earth per Transported Status\")\n",
    "plt.show()"
   ]
  },
  {
   "cell_type": "code",
   "execution_count": 33,
   "id": "f3a951dd",
   "metadata": {
    "execution": {
     "iopub.execute_input": "2022-03-15T15:57:11.070159Z",
     "iopub.status.busy": "2022-03-15T15:57:11.069469Z",
     "iopub.status.idle": "2022-03-15T15:57:11.327000Z",
     "shell.execute_reply": "2022-03-15T15:57:11.326297Z",
     "shell.execute_reply.started": "2022-03-14T14:11:12.095122Z"
    },
    "papermill": {
     "duration": 0.372963,
     "end_time": "2022-03-15T15:57:11.327185",
     "exception": false,
     "start_time": "2022-03-15T15:57:10.954222",
     "status": "completed"
    },
    "tags": []
   },
   "outputs": [
    {
     "data": {
      "image/png": "[encoded data removed]",
      "text/plain": [
       "<Figure size 720x360 with 1 Axes>"
      ]
     },
     "metadata": {
      "needs_background": "light"
     },
     "output_type": "display_data"
    }
   ],
   "source": [
    "plt.figure(figsize=(10,5))\n",
    "temp = train_df[train_df[\"HomePlanet\"] == \"Europa\"].groupby([\"Destination\", \"Transported\"]).size().reset_index(name=\"Freq\").sort_values(by=[\"Freq\"], ascending=False)\n",
    "sns.barplot(x=\"Destination\", hue=\"Transported\", y=\"Freq\", data=temp, palette=[\"cyan\",\"hotpink\"])\n",
    "plt.title(\"Destination from Europa per Transported Status\")\n",
    "plt.show()"
   ]
  },
  {
   "cell_type": "code",
   "execution_count": 34,
   "id": "b7d2b2f6",
   "metadata": {
    "execution": {
     "iopub.execute_input": "2022-03-15T15:57:11.563771Z",
     "iopub.status.busy": "2022-03-15T15:57:11.563023Z",
     "iopub.status.idle": "2022-03-15T15:57:12.253247Z",
     "shell.execute_reply": "2022-03-15T15:57:12.252526Z",
     "shell.execute_reply.started": "2022-03-14T14:11:15.103957Z"
    },
    "papermill": {
     "duration": 0.807503,
     "end_time": "2022-03-15T15:57:12.253487",
     "exception": false,
     "start_time": "2022-03-15T15:57:11.445984",
     "status": "completed"
    },
    "tags": []
   },
   "outputs": [
    {
     "data": {
      "image/png": "[encoded data removed]",
      "text/plain": [
       "<Figure size 720x360 with 1 Axes>"
      ]
     },
     "metadata": {
      "needs_background": "light"
     },
     "output_type": "display_data"
    }
   ],
   "source": [
    "plt.figure(figsize=(10,5))\n",
    "temp = train_df[train_df[\"HomePlanet\"] == \"Mars\"].groupby([\"Destination\", \"Transported\"]).size().reset_index(name=\"Freq\").sort_values(by=[\"Freq\"], ascending=False)\n",
    "sns.barplot(x=\"Destination\", hue=\"Transported\", y=\"Freq\", data=temp, palette=[\"cyan\",\"hotpink\"])\n",
    "plt.title(\"Destination from Mars per Transported Status\")\n",
    "plt.show()"
   ]
  },
  {
   "cell_type": "code",
   "execution_count": 35,
   "id": "23dbe446",
   "metadata": {
    "execution": {
     "iopub.execute_input": "2022-03-15T15:57:12.490786Z",
     "iopub.status.busy": "2022-03-15T15:57:12.490014Z",
     "iopub.status.idle": "2022-03-15T15:57:12.707704Z",
     "shell.execute_reply": "2022-03-15T15:57:12.708241Z",
     "shell.execute_reply.started": "2022-03-14T14:11:15.583616Z"
    },
    "papermill": {
     "duration": 0.341755,
     "end_time": "2022-03-15T15:57:12.708439",
     "exception": false,
     "start_time": "2022-03-15T15:57:12.366684",
     "status": "completed"
    },
    "tags": []
   },
   "outputs": [
    {
     "data": {
      "image/png": "[encoded data removed]",
      "text/plain": [
       "<Figure size 720x360 with 1 Axes>"
      ]
     },
     "metadata": {
      "needs_background": "light"
     },
     "output_type": "display_data"
    }
   ],
   "source": [
    "plt.figure(figsize=(10,5))\n",
    "temp = train_df.groupby([\"CryoSleep\", \"Transported\"]).size().reset_index(name=\"Freq\").sort_values(by=[\"Freq\"], ascending=False)\n",
    "sns.barplot(x=\"CryoSleep\", hue=\"Transported\", y=\"Freq\", data=temp, palette=[\"cyan\",\"hotpink\"])\n",
    "plt.title(\"CryoSleep per Transported Status\")\n",
    "plt.show()"
   ]
  },
  {
   "cell_type": "code",
   "execution_count": 36,
   "id": "04f22d83",
   "metadata": {
    "execution": {
     "iopub.execute_input": "2022-03-15T15:57:12.940957Z",
     "iopub.status.busy": "2022-03-15T15:57:12.940176Z",
     "iopub.status.idle": "2022-03-15T15:57:13.170034Z",
     "shell.execute_reply": "2022-03-15T15:57:13.170545Z",
     "shell.execute_reply.started": "2022-03-14T14:11:16.264653Z"
    },
    "papermill": {
     "duration": 0.347762,
     "end_time": "2022-03-15T15:57:13.170740",
     "exception": false,
     "start_time": "2022-03-15T15:57:12.822978",
     "status": "completed"
    },
    "tags": []
   },
   "outputs": [
    {
     "data": {
      "image/png": "[encoded data removed]",
      "text/plain": [
       "<Figure size 720x360 with 1 Axes>"
      ]
     },
     "metadata": {
      "needs_background": "light"
     },
     "output_type": "display_data"
    }
   ],
   "source": [
    "plt.figure(figsize=(10,5))\n",
    "temp = train_df.groupby([\"VIP\", \"Transported\"]).size().reset_index(name=\"Freq\").sort_values(by=[\"Freq\"], ascending=False)\n",
    "sns.barplot(x=\"VIP\", hue=\"Transported\", y=\"Freq\", data=temp, palette=[\"cyan\",\"hotpink\"])\n",
    "plt.title(\"VIP per Transported Status\")\n",
    "plt.show()"
   ]
  },
  {
   "cell_type": "markdown",
   "id": "0d2d8b2a",
   "metadata": {
    "papermill": {
     "duration": 0.114496,
     "end_time": "2022-03-15T15:57:13.397728",
     "exception": false,
     "start_time": "2022-03-15T15:57:13.283232",
     "status": "completed"
    },
    "tags": []
   },
   "source": [
    "### EDA: Categorical Cols - Test Set"
   ]
  },
  {
   "cell_type": "code",
   "execution_count": 37,
   "id": "2460247b",
   "metadata": {
    "execution": {
     "iopub.execute_input": "2022-03-15T15:57:13.629896Z",
     "iopub.status.busy": "2022-03-15T15:57:13.629083Z",
     "iopub.status.idle": "2022-03-15T15:57:13.808238Z",
     "shell.execute_reply": "2022-03-15T15:57:13.808800Z",
     "shell.execute_reply.started": "2022-03-14T14:11:18.944928Z"
    },
    "papermill": {
     "duration": 0.296568,
     "end_time": "2022-03-15T15:57:13.809018",
     "exception": false,
     "start_time": "2022-03-15T15:57:13.512450",
     "status": "completed"
    },
    "tags": []
   },
   "outputs": [
    {
     "data": {
      "image/png": "[encoded data removed]",
      "text/plain": [
       "<Figure size 720x360 with 1 Axes>"
      ]
     },
     "metadata": {
      "needs_background": "light"
     },
     "output_type": "display_data"
    }
   ],
   "source": [
    "plt.figure(figsize=(10,5))\n",
    "temp = test_df.groupby([\"HomePlanet\"]).size().reset_index(name=\"Freq\").sort_values(by=[\"Freq\"], ascending=False)\n",
    "sns.barplot(x=\"HomePlanet\", y=\"Freq\", data=temp, palette=[\"lightgreen\"])\n",
    "plt.title(\"HomePlanet per Transported Status\")\n",
    "plt.show()"
   ]
  },
  {
   "cell_type": "code",
   "execution_count": 38,
   "id": "65fd6ed9",
   "metadata": {
    "execution": {
     "iopub.execute_input": "2022-03-15T15:57:14.041169Z",
     "iopub.status.busy": "2022-03-15T15:57:14.040403Z",
     "iopub.status.idle": "2022-03-15T15:57:14.224976Z",
     "shell.execute_reply": "2022-03-15T15:57:14.225460Z",
     "shell.execute_reply.started": "2022-03-14T14:11:19.623419Z"
    },
    "papermill": {
     "duration": 0.303914,
     "end_time": "2022-03-15T15:57:14.225651",
     "exception": false,
     "start_time": "2022-03-15T15:57:13.921737",
     "status": "completed"
    },
    "tags": []
   },
   "outputs": [
    {
     "data": {
      "image/png": "[encoded data removed]",
      "text/plain": [
       "<Figure size 720x360 with 1 Axes>"
      ]
     },
     "metadata": {
      "needs_background": "light"
     },
     "output_type": "display_data"
    }
   ],
   "source": [
    "plt.figure(figsize=(10,5))\n",
    "temp = test_df.groupby([\"Destination\"]).size().reset_index(name=\"Freq\").sort_values(by=[\"Freq\"], ascending=False)\n",
    "sns.barplot(x=\"Destination\", y=\"Freq\", data=temp, palette=[\"lightgreen\"])\n",
    "plt.title(\"Destination per Transported Status\")\n",
    "plt.show()"
   ]
  },
  {
   "cell_type": "code",
   "execution_count": 39,
   "id": "dffaaec2",
   "metadata": {
    "execution": {
     "iopub.execute_input": "2022-03-15T15:57:14.465557Z",
     "iopub.status.busy": "2022-03-15T15:57:14.464493Z",
     "iopub.status.idle": "2022-03-15T15:57:14.645633Z",
     "shell.execute_reply": "2022-03-15T15:57:14.646139Z",
     "shell.execute_reply.started": "2022-03-14T14:11:20.263147Z"
    },
    "papermill": {
     "duration": 0.30598,
     "end_time": "2022-03-15T15:57:14.646369",
     "exception": false,
     "start_time": "2022-03-15T15:57:14.340389",
     "status": "completed"
    },
    "tags": []
   },
   "outputs": [
    {
     "data": {
      "image/png": "[encoded data removed]",
      "text/plain": [
       "<Figure size 720x360 with 1 Axes>"
      ]
     },
     "metadata": {
      "needs_background": "light"
     },
     "output_type": "display_data"
    }
   ],
   "source": [
    "plt.figure(figsize=(10,5))\n",
    "temp = test_df.groupby([\"CryoSleep\"]).size().reset_index(name=\"Freq\").sort_values(by=[\"Freq\"], ascending=False)\n",
    "sns.barplot(x=\"CryoSleep\", y=\"Freq\", data=temp, palette=[\"lightgreen\"])\n",
    "plt.title(\"CryoSleep per Transported Status\")\n",
    "plt.show()"
   ]
  },
  {
   "cell_type": "code",
   "execution_count": 40,
   "id": "99529642",
   "metadata": {
    "execution": {
     "iopub.execute_input": "2022-03-15T15:57:14.889075Z",
     "iopub.status.busy": "2022-03-15T15:57:14.887993Z",
     "iopub.status.idle": "2022-03-15T15:57:15.076112Z",
     "shell.execute_reply": "2022-03-15T15:57:15.076601Z",
     "shell.execute_reply.started": "2022-03-14T14:11:20.703774Z"
    },
    "papermill": {
     "duration": 0.310638,
     "end_time": "2022-03-15T15:57:15.076792",
     "exception": false,
     "start_time": "2022-03-15T15:57:14.766154",
     "status": "completed"
    },
    "tags": []
   },
   "outputs": [
    {
     "data": {
      "image/png": "[encoded data removed]",
      "text/plain": [
       "<Figure size 720x360 with 1 Axes>"
      ]
     },
     "metadata": {
      "needs_background": "light"
     },
     "output_type": "display_data"
    }
   ],
   "source": [
    "plt.figure(figsize=(10,5))\n",
    "temp = test_df.groupby([\"VIP\"]).size().reset_index(name=\"Freq\").sort_values(by=[\"Freq\"], ascending=False)\n",
    "sns.barplot(x=\"VIP\", y=\"Freq\", data=temp, palette=[\"lightgreen\"])\n",
    "plt.title(\"VIP per Transported Status\")\n",
    "plt.show()"
   ]
  },
  {
   "cell_type": "markdown",
   "id": "2e21983f",
   "metadata": {
    "papermill": {
     "duration": 0.116871,
     "end_time": "2022-03-15T15:57:15.308812",
     "exception": false,
     "start_time": "2022-03-15T15:57:15.191941",
     "status": "completed"
    },
    "tags": []
   },
   "source": [
    "### EDA : Check Correlation"
   ]
  },
  {
   "cell_type": "code",
   "execution_count": 41,
   "id": "b2dd3c12",
   "metadata": {
    "execution": {
     "iopub.execute_input": "2022-03-15T15:57:15.548628Z",
     "iopub.status.busy": "2022-03-15T15:57:15.547579Z",
     "iopub.status.idle": "2022-03-15T15:57:15.870118Z",
     "shell.execute_reply": "2022-03-15T15:57:15.870603Z",
     "shell.execute_reply.started": "2022-03-15T14:44:44.493811Z"
    },
    "papermill": {
     "duration": 0.444141,
     "end_time": "2022-03-15T15:57:15.870794",
     "exception": false,
     "start_time": "2022-03-15T15:57:15.426653",
     "status": "completed"
    },
    "tags": []
   },
   "outputs": [
    {
     "data": {
      "image/png": "[encoded data removed]",
      "text/plain": [
       "<Figure size 360x360 with 2 Axes>"
      ]
     },
     "metadata": {
      "needs_background": "light"
     },
     "output_type": "display_data"
    }
   ],
   "source": [
    "corr = train_df.corr().abs()\n",
    "kot = corr[(corr>=.1) | (corr<=-.1)]\n",
    "plt.figure(figsize=(5,5))\n",
    "sns.heatmap(kot, cmap=\"Greens\")\n",
    "plt.title(\"Features with <=-0.1 & >=0.1 Correlation Score\")\n",
    "plt.show()"
   ]
  },
  {
   "cell_type": "markdown",
   "id": "40c62d6c",
   "metadata": {
    "papermill": {
     "duration": 0.11857,
     "end_time": "2022-03-15T15:57:16.109964",
     "exception": false,
     "start_time": "2022-03-15T15:57:15.991394",
     "status": "completed"
    },
    "tags": []
   },
   "source": [
    "# "
   ]
  },
  {
   "cell_type": "code",
   "execution_count": 42,
   "id": "52fd6c98",
   "metadata": {
    "execution": {
     "iopub.execute_input": "2022-03-15T15:57:16.350669Z",
     "iopub.status.busy": "2022-03-15T15:57:16.349557Z",
     "iopub.status.idle": "2022-03-15T15:57:16.370901Z",
     "shell.execute_reply": "2022-03-15T15:57:16.371515Z",
     "shell.execute_reply.started": "2022-03-15T14:47:04.350388Z"
    },
    "papermill": {
     "duration": 0.143605,
     "end_time": "2022-03-15T15:57:16.371705",
     "exception": false,
     "start_time": "2022-03-15T15:57:16.228100",
     "status": "completed"
    },
    "tags": []
   },
   "outputs": [
    {
     "data": {
      "text/html": [
       "<div>\n",
       "<style scoped>\n",
       "    .dataframe tbody tr th:only-of-type {\n",
       "        vertical-align: middle;\n",
       "    }\n",
       "\n",
       "    .dataframe tbody tr th {\n",
       "        vertical-align: top;\n",
       "    }\n",
       "\n",
       "    .dataframe thead th {\n",
       "        text-align: right;\n",
       "    }\n",
       "</style>\n",
       "<table border=\"1\" class=\"dataframe\">\n",
       "  <thead>\n",
       "    <tr style=\"text-align: right;\">\n",
       "      <th></th>\n",
       "      <th>PassengerId</th>\n",
       "      <th>HomePlanet</th>\n",
       "      <th>CryoSleep</th>\n",
       "      <th>Cabin</th>\n",
       "      <th>Destination</th>\n",
       "      <th>Age</th>\n",
       "      <th>VIP</th>\n",
       "      <th>RoomService</th>\n",
       "      <th>FoodCourt</th>\n",
       "      <th>ShoppingMall</th>\n",
       "      <th>Spa</th>\n",
       "      <th>VRDeck</th>\n",
       "      <th>Name</th>\n",
       "      <th>Transported</th>\n",
       "    </tr>\n",
       "  </thead>\n",
       "  <tbody>\n",
       "    <tr>\n",
       "      <th>0</th>\n",
       "      <td>0001_01</td>\n",
       "      <td>Europa</td>\n",
       "      <td>False</td>\n",
       "      <td>B/0/P</td>\n",
       "      <td>TRAPPIST-1e</td>\n",
       "      <td>39.0</td>\n",
       "      <td>False</td>\n",
       "      <td>0.0</td>\n",
       "      <td>0.0</td>\n",
       "      <td>0.0</td>\n",
       "      <td>0.0</td>\n",
       "      <td>0.0</td>\n",
       "      <td>Maham Ofracculy</td>\n",
       "      <td>False</td>\n",
       "    </tr>\n",
       "    <tr>\n",
       "      <th>1</th>\n",
       "      <td>0002_01</td>\n",
       "      <td>Earth</td>\n",
       "      <td>False</td>\n",
       "      <td>F/0/S</td>\n",
       "      <td>TRAPPIST-1e</td>\n",
       "      <td>24.0</td>\n",
       "      <td>False</td>\n",
       "      <td>109.0</td>\n",
       "      <td>9.0</td>\n",
       "      <td>25.0</td>\n",
       "      <td>549.0</td>\n",
       "      <td>44.0</td>\n",
       "      <td>Juanna Vines</td>\n",
       "      <td>True</td>\n",
       "    </tr>\n",
       "    <tr>\n",
       "      <th>2</th>\n",
       "      <td>0003_01</td>\n",
       "      <td>Europa</td>\n",
       "      <td>False</td>\n",
       "      <td>A/0/S</td>\n",
       "      <td>TRAPPIST-1e</td>\n",
       "      <td>58.0</td>\n",
       "      <td>True</td>\n",
       "      <td>43.0</td>\n",
       "      <td>3576.0</td>\n",
       "      <td>0.0</td>\n",
       "      <td>6715.0</td>\n",
       "      <td>49.0</td>\n",
       "      <td>Altark Susent</td>\n",
       "      <td>False</td>\n",
       "    </tr>\n",
       "    <tr>\n",
       "      <th>3</th>\n",
       "      <td>0003_02</td>\n",
       "      <td>Europa</td>\n",
       "      <td>False</td>\n",
       "      <td>A/0/S</td>\n",
       "      <td>TRAPPIST-1e</td>\n",
       "      <td>33.0</td>\n",
       "      <td>False</td>\n",
       "      <td>0.0</td>\n",
       "      <td>1283.0</td>\n",
       "      <td>371.0</td>\n",
       "      <td>3329.0</td>\n",
       "      <td>193.0</td>\n",
       "      <td>Solam Susent</td>\n",
       "      <td>False</td>\n",
       "    </tr>\n",
       "    <tr>\n",
       "      <th>4</th>\n",
       "      <td>0004_01</td>\n",
       "      <td>Earth</td>\n",
       "      <td>False</td>\n",
       "      <td>F/1/S</td>\n",
       "      <td>TRAPPIST-1e</td>\n",
       "      <td>16.0</td>\n",
       "      <td>False</td>\n",
       "      <td>303.0</td>\n",
       "      <td>70.0</td>\n",
       "      <td>151.0</td>\n",
       "      <td>565.0</td>\n",
       "      <td>2.0</td>\n",
       "      <td>Willy Santantines</td>\n",
       "      <td>True</td>\n",
       "    </tr>\n",
       "  </tbody>\n",
       "</table>\n",
       "</div>"
      ],
      "text/plain": [
       "  PassengerId HomePlanet CryoSleep  Cabin  Destination   Age    VIP  \\\n",
       "0     0001_01     Europa     False  B/0/P  TRAPPIST-1e  39.0  False   \n",
       "1     0002_01      Earth     False  F/0/S  TRAPPIST-1e  24.0  False   \n",
       "2     0003_01     Europa     False  A/0/S  TRAPPIST-1e  58.0   True   \n",
       "3     0003_02     Europa     False  A/0/S  TRAPPIST-1e  33.0  False   \n",
       "4     0004_01      Earth     False  F/1/S  TRAPPIST-1e  16.0  False   \n",
       "\n",
       "   RoomService  FoodCourt  ShoppingMall     Spa  VRDeck               Name  \\\n",
       "0          0.0        0.0           0.0     0.0     0.0    Maham Ofracculy   \n",
       "1        109.0        9.0          25.0   549.0    44.0       Juanna Vines   \n",
       "2         43.0     3576.0           0.0  6715.0    49.0      Altark Susent   \n",
       "3          0.0     1283.0         371.0  3329.0   193.0       Solam Susent   \n",
       "4        303.0       70.0         151.0   565.0     2.0  Willy Santantines   \n",
       "\n",
       "   Transported  \n",
       "0        False  \n",
       "1         True  \n",
       "2        False  \n",
       "3        False  \n",
       "4         True  "
      ]
     },
     "execution_count": 42,
     "metadata": {},
     "output_type": "execute_result"
    }
   ],
   "source": [
    "train_df.head()"
   ]
  },
  {
   "cell_type": "markdown",
   "id": "8e60fcef",
   "metadata": {
    "papermill": {
     "duration": 0.11751,
     "end_time": "2022-03-15T15:57:16.609500",
     "exception": false,
     "start_time": "2022-03-15T15:57:16.491990",
     "status": "completed"
    },
    "tags": []
   },
   "source": [
    "# Feature Engineering"
   ]
  },
  {
   "cell_type": "code",
   "execution_count": 43,
   "id": "b2490d1a",
   "metadata": {
    "execution": {
     "iopub.execute_input": "2022-03-15T15:57:16.847893Z",
     "iopub.status.busy": "2022-03-15T15:57:16.846796Z",
     "iopub.status.idle": "2022-03-15T15:57:16.953007Z",
     "shell.execute_reply": "2022-03-15T15:57:16.953587Z",
     "shell.execute_reply.started": "2022-03-15T15:52:52.324885Z"
    },
    "papermill": {
     "duration": 0.22676,
     "end_time": "2022-03-15T15:57:16.953790",
     "exception": false,
     "start_time": "2022-03-15T15:57:16.727030",
     "status": "completed"
    },
    "tags": []
   },
   "outputs": [],
   "source": [
    "temp = []\n",
    "for i in train_df[\"PassengerId\"]:\n",
    "    temp.append(i.split(\"_\")[0])\n",
    "train_df[\"Group\"] = temp\n",
    "\n",
    "temp = []\n",
    "for i in train_df[\"Cabin\"]:\n",
    "    if pd.isnull(i):\n",
    "        temp.append(np.nan)\n",
    "    else:\n",
    "        temp.append(str(i).split(\"/\")[0])\n",
    "train_df[\"Deck\"] = temp\n",
    "\n",
    "temp = []\n",
    "for i in train_df[\"Cabin\"]:\n",
    "    if pd.isnull(i):\n",
    "        temp.append(np.nan)\n",
    "    else:\n",
    "        temp.append(str(i).split(\"/\")[1])\n",
    "train_df[\"Num\"] = temp\n",
    "\n",
    "temp = []\n",
    "for i in train_df[\"Cabin\"]:\n",
    "    if pd.isnull(i):\n",
    "        temp.append(np.nan)\n",
    "    else:\n",
    "        temp.append(str(i).split(\"/\")[2])\n",
    "train_df[\"Side\"] = temp\n",
    "\n",
    "\n",
    "\n",
    "temp = []\n",
    "for i in test_df[\"PassengerId\"]:\n",
    "    if pd.isnull(i):\n",
    "        temp.append(np.nan)\n",
    "    else:\n",
    "        temp.append(i.split(\"_\")[0])\n",
    "test_df[\"Group\"] = temp\n",
    "\n",
    "temp = []\n",
    "for i in test_df[\"Cabin\"]:\n",
    "    if pd.isnull(i):\n",
    "        temp.append(np.nan)\n",
    "    else:\n",
    "        temp.append(str(i).split(\"/\")[0])\n",
    "test_df[\"Deck\"] = temp\n",
    "\n",
    "temp = []\n",
    "for i in test_df[\"Cabin\"]:\n",
    "    if pd.isnull(i):\n",
    "        temp.append(np.nan)\n",
    "    else:\n",
    "        temp.append(str(i).split(\"/\")[1])\n",
    "test_df[\"Num\"] = temp\n",
    "\n",
    "temp = []\n",
    "for i in test_df[\"Cabin\"]:\n",
    "    if pd.isnull(i):\n",
    "        temp.append(np.nan)\n",
    "    else:\n",
    "        temp.append(str(i).split(\"/\")[2])\n",
    "test_df[\"Side\"] = temp"
   ]
  },
  {
   "cell_type": "code",
   "execution_count": 44,
   "id": "5a5221ae",
   "metadata": {
    "execution": {
     "iopub.execute_input": "2022-03-15T15:57:17.201274Z",
     "iopub.status.busy": "2022-03-15T15:57:17.200562Z",
     "iopub.status.idle": "2022-03-15T15:57:17.219497Z",
     "shell.execute_reply": "2022-03-15T15:57:17.218938Z",
     "shell.execute_reply.started": "2022-03-15T15:52:52.812217Z"
    },
    "papermill": {
     "duration": 0.146224,
     "end_time": "2022-03-15T15:57:17.219658",
     "exception": false,
     "start_time": "2022-03-15T15:57:17.073434",
     "status": "completed"
    },
    "tags": []
   },
   "outputs": [
    {
     "data": {
      "text/html": [
       "<div>\n",
       "<style scoped>\n",
       "    .dataframe tbody tr th:only-of-type {\n",
       "        vertical-align: middle;\n",
       "    }\n",
       "\n",
       "    .dataframe tbody tr th {\n",
       "        vertical-align: top;\n",
       "    }\n",
       "\n",
       "    .dataframe thead th {\n",
       "        text-align: right;\n",
       "    }\n",
       "</style>\n",
       "<table border=\"1\" class=\"dataframe\">\n",
       "  <thead>\n",
       "    <tr style=\"text-align: right;\">\n",
       "      <th></th>\n",
       "      <th>Group</th>\n",
       "      <th>Freq</th>\n",
       "    </tr>\n",
       "  </thead>\n",
       "  <tbody>\n",
       "    <tr>\n",
       "      <th>3023</th>\n",
       "      <td>4498</td>\n",
       "      <td>8</td>\n",
       "    </tr>\n",
       "    <tr>\n",
       "      <th>5487</th>\n",
       "      <td>8168</td>\n",
       "      <td>8</td>\n",
       "    </tr>\n",
       "    <tr>\n",
       "      <th>5851</th>\n",
       "      <td>8728</td>\n",
       "      <td>8</td>\n",
       "    </tr>\n",
       "    <tr>\n",
       "      <th>5893</th>\n",
       "      <td>8796</td>\n",
       "      <td>8</td>\n",
       "    </tr>\n",
       "    <tr>\n",
       "      <th>6000</th>\n",
       "      <td>8956</td>\n",
       "      <td>8</td>\n",
       "    </tr>\n",
       "    <tr>\n",
       "      <th>...</th>\n",
       "      <td>...</td>\n",
       "      <td>...</td>\n",
       "    </tr>\n",
       "    <tr>\n",
       "      <th>2334</th>\n",
       "      <td>3483</td>\n",
       "      <td>1</td>\n",
       "    </tr>\n",
       "    <tr>\n",
       "      <th>2333</th>\n",
       "      <td>3480</td>\n",
       "      <td>1</td>\n",
       "    </tr>\n",
       "    <tr>\n",
       "      <th>2332</th>\n",
       "      <td>3478</td>\n",
       "      <td>1</td>\n",
       "    </tr>\n",
       "    <tr>\n",
       "      <th>2328</th>\n",
       "      <td>3473</td>\n",
       "      <td>1</td>\n",
       "    </tr>\n",
       "    <tr>\n",
       "      <th>3108</th>\n",
       "      <td>4620</td>\n",
       "      <td>1</td>\n",
       "    </tr>\n",
       "  </tbody>\n",
       "</table>\n",
       "<p>6217 rows × 2 columns</p>\n",
       "</div>"
      ],
      "text/plain": [
       "     Group  Freq\n",
       "3023  4498     8\n",
       "5487  8168     8\n",
       "5851  8728     8\n",
       "5893  8796     8\n",
       "6000  8956     8\n",
       "...    ...   ...\n",
       "2334  3483     1\n",
       "2333  3480     1\n",
       "2332  3478     1\n",
       "2328  3473     1\n",
       "3108  4620     1\n",
       "\n",
       "[6217 rows x 2 columns]"
      ]
     },
     "execution_count": 44,
     "metadata": {},
     "output_type": "execute_result"
    }
   ],
   "source": [
    "train_df.groupby([\"Group\"]).size().reset_index(name=\"Freq\").sort_values(by=[\"Freq\"], ascending=False)"
   ]
  },
  {
   "cell_type": "code",
   "execution_count": 45,
   "id": "4a9624cd",
   "metadata": {
    "execution": {
     "iopub.execute_input": "2022-03-15T15:57:17.472763Z",
     "iopub.status.busy": "2022-03-15T15:57:17.472033Z",
     "iopub.status.idle": "2022-03-15T15:57:17.515515Z",
     "shell.execute_reply": "2022-03-15T15:57:17.516008Z",
     "shell.execute_reply.started": "2022-03-15T15:52:52.972926Z"
    },
    "papermill": {
     "duration": 0.174146,
     "end_time": "2022-03-15T15:57:17.516205",
     "exception": false,
     "start_time": "2022-03-15T15:57:17.342059",
     "status": "completed"
    },
    "tags": []
   },
   "outputs": [],
   "source": [
    "temp = train_df.groupby([\"Group\"]).size().reset_index(name=\"Freq\").sort_values(by=[\"Freq\"], ascending=False)\n",
    "temp[\"IsFamily\"] = np.where(temp[\"Freq\"] > 0, 1, 0)\n",
    "train_df = pd.merge(train_df, temp[[\"Group\", \"IsFamily\"]], on=\"Group\", how=\"left\")\n",
    "\n",
    "temp = test_df.groupby([\"Group\"]).size().reset_index(name=\"Freq\").sort_values(by=[\"Freq\"], ascending=False)\n",
    "temp[\"IsFamily\"] = np.where(temp[\"Freq\"] > 0, 1, 0)\n",
    "test_df = pd.merge(test_df, temp[[\"Group\", \"IsFamily\"]], on=\"Group\", how=\"left\")"
   ]
  },
  {
   "cell_type": "code",
   "execution_count": 46,
   "id": "0f7562bc",
   "metadata": {
    "execution": {
     "iopub.execute_input": "2022-03-15T15:57:17.766362Z",
     "iopub.status.busy": "2022-03-15T15:57:17.765379Z",
     "iopub.status.idle": "2022-03-15T15:57:17.780476Z",
     "shell.execute_reply": "2022-03-15T15:57:17.781125Z",
     "shell.execute_reply.started": "2022-03-15T15:52:53.156090Z"
    },
    "papermill": {
     "duration": 0.143877,
     "end_time": "2022-03-15T15:57:17.781315",
     "exception": false,
     "start_time": "2022-03-15T15:57:17.637438",
     "status": "completed"
    },
    "tags": []
   },
   "outputs": [
    {
     "data": {
      "text/plain": [
       "PassengerId       0\n",
       "HomePlanet      201\n",
       "CryoSleep       217\n",
       "Cabin           199\n",
       "Destination     182\n",
       "Age             179\n",
       "VIP             203\n",
       "RoomService     181\n",
       "FoodCourt       183\n",
       "ShoppingMall    208\n",
       "Spa             183\n",
       "VRDeck          188\n",
       "Name            200\n",
       "Transported       0\n",
       "Group             0\n",
       "Deck            199\n",
       "Num             199\n",
       "Side            199\n",
       "IsFamily          0\n",
       "dtype: int64"
      ]
     },
     "execution_count": 46,
     "metadata": {},
     "output_type": "execute_result"
    }
   ],
   "source": [
    "train_df.isna().sum()"
   ]
  },
  {
   "cell_type": "code",
   "execution_count": 47,
   "id": "f70d6879",
   "metadata": {
    "execution": {
     "iopub.execute_input": "2022-03-15T15:57:18.036190Z",
     "iopub.status.busy": "2022-03-15T15:57:18.035097Z",
     "iopub.status.idle": "2022-03-15T15:57:18.077844Z",
     "shell.execute_reply": "2022-03-15T15:57:18.078451Z",
     "shell.execute_reply.started": "2022-03-15T15:52:53.524349Z"
    },
    "papermill": {
     "duration": 0.174416,
     "end_time": "2022-03-15T15:57:18.078648",
     "exception": false,
     "start_time": "2022-03-15T15:57:17.904232",
     "status": "completed"
    },
    "tags": []
   },
   "outputs": [],
   "source": [
    "categorical_cols = ['HomePlanet', 'Destination', 'CryoSleep', 'VIP', 'Deck', 'Side']\n",
    "numerical_cols = ['Age', 'RoomService', 'FoodCourt', 'ShoppingMall', 'Spa', 'VRDeck']\n",
    "for i in categorical_cols:\n",
    "    train_df[str(i)] = train_df[str(i)].fillna(train_df[str(i)].mode().values[0])\n",
    "    test_df[str(i)] = test_df[str(i)].fillna(test_df[str(i)].mode().values[0])\n",
    "for i in numerical_cols:\n",
    "    train_df[str(i)] = train_df[str(i)].fillna(train_df[str(i)].mean())\n",
    "    test_df[str(i)] = test_df[str(i)].fillna(test_df[str(i)].mean())"
   ]
  },
  {
   "cell_type": "code",
   "execution_count": 48,
   "id": "31b143ac",
   "metadata": {
    "execution": {
     "iopub.execute_input": "2022-03-15T15:57:18.324559Z",
     "iopub.status.busy": "2022-03-15T15:57:18.323455Z",
     "iopub.status.idle": "2022-03-15T15:57:18.339686Z",
     "shell.execute_reply": "2022-03-15T15:57:18.340174Z",
     "shell.execute_reply.started": "2022-03-15T15:52:53.868462Z"
    },
    "papermill": {
     "duration": 0.141041,
     "end_time": "2022-03-15T15:57:18.340400",
     "exception": false,
     "start_time": "2022-03-15T15:57:18.199359",
     "status": "completed"
    },
    "tags": []
   },
   "outputs": [],
   "source": [
    "train_df[\"Num\"] = train_df[\"Num\"].fillna(train_df[\"Num\"].mode().values[0]).astype(\"int\")\n",
    "test_df[\"Num\"] = test_df[\"Num\"].fillna(test_df[\"Num\"].mode().values[0]).astype(\"int\")"
   ]
  },
  {
   "cell_type": "code",
   "execution_count": 49,
   "id": "9ace1256",
   "metadata": {
    "execution": {
     "iopub.execute_input": "2022-03-15T15:57:18.586902Z",
     "iopub.status.busy": "2022-03-15T15:57:18.585849Z",
     "iopub.status.idle": "2022-03-15T15:57:18.603665Z",
     "shell.execute_reply": "2022-03-15T15:57:18.604165Z",
     "shell.execute_reply.started": "2022-03-15T15:52:54.124811Z"
    },
    "papermill": {
     "duration": 0.145229,
     "end_time": "2022-03-15T15:57:18.604391",
     "exception": false,
     "start_time": "2022-03-15T15:57:18.459162",
     "status": "completed"
    },
    "tags": []
   },
   "outputs": [
    {
     "data": {
      "text/plain": [
       "PassengerId       0\n",
       "HomePlanet        0\n",
       "CryoSleep         0\n",
       "Cabin           199\n",
       "Destination       0\n",
       "Age               0\n",
       "VIP               0\n",
       "RoomService       0\n",
       "FoodCourt         0\n",
       "ShoppingMall      0\n",
       "Spa               0\n",
       "VRDeck            0\n",
       "Name            200\n",
       "Transported       0\n",
       "Group             0\n",
       "Deck              0\n",
       "Num               0\n",
       "Side              0\n",
       "IsFamily          0\n",
       "dtype: int64"
      ]
     },
     "execution_count": 49,
     "metadata": {},
     "output_type": "execute_result"
    }
   ],
   "source": [
    "train_df.isna().sum()"
   ]
  },
  {
   "cell_type": "code",
   "execution_count": 50,
   "id": "89617209",
   "metadata": {
    "execution": {
     "iopub.execute_input": "2022-03-15T15:57:18.854135Z",
     "iopub.status.busy": "2022-03-15T15:57:18.853116Z",
     "iopub.status.idle": "2022-03-15T15:57:18.856380Z",
     "shell.execute_reply": "2022-03-15T15:57:18.856847Z",
     "shell.execute_reply.started": "2022-03-15T15:52:54.517062Z"
    },
    "papermill": {
     "duration": 0.128914,
     "end_time": "2022-03-15T15:57:18.857033",
     "exception": false,
     "start_time": "2022-03-15T15:57:18.728119",
     "status": "completed"
    },
    "tags": []
   },
   "outputs": [],
   "source": [
    "# train_df[\"RoomService\"] = np.log1p(train_df[\"RoomService\"])\n",
    "# train_df[\"Spa\"] = np.log1p(train_df[\"Spa\"])\n",
    "# train_df[\"VRDeck\"] = np.log1p(train_df[\"VRDeck\"])\n",
    "\n",
    "# test_df[\"RoomService\"] = np.log1p(test_df[\"RoomService\"])\n",
    "# test_df[\"Spa\"] = np.log1p(test_df[\"Spa\"])\n",
    "# test_df[\"VRDeck\"] = np.log1p(test_df[\"VRDeck\"])"
   ]
  },
  {
   "cell_type": "code",
   "execution_count": 51,
   "id": "69f2ba4d",
   "metadata": {
    "execution": {
     "iopub.execute_input": "2022-03-15T15:57:19.107002Z",
     "iopub.status.busy": "2022-03-15T15:57:19.105947Z",
     "iopub.status.idle": "2022-03-15T15:57:19.112614Z",
     "shell.execute_reply": "2022-03-15T15:57:19.111876Z",
     "shell.execute_reply.started": "2022-03-15T15:52:54.989848Z"
    },
    "papermill": {
     "duration": 0.132945,
     "end_time": "2022-03-15T15:57:19.112772",
     "exception": false,
     "start_time": "2022-03-15T15:57:18.979827",
     "status": "completed"
    },
    "tags": []
   },
   "outputs": [
    {
     "data": {
      "text/plain": [
       "['HomePlanet', 'Destination', 'CryoSleep', 'VIP', 'Deck', 'Side']"
      ]
     },
     "execution_count": 51,
     "metadata": {},
     "output_type": "execute_result"
    }
   ],
   "source": [
    "categorical_cols"
   ]
  },
  {
   "cell_type": "code",
   "execution_count": 52,
   "id": "733e5a30",
   "metadata": {
    "execution": {
     "iopub.execute_input": "2022-03-15T15:57:19.368789Z",
     "iopub.status.busy": "2022-03-15T15:57:19.367705Z",
     "iopub.status.idle": "2022-03-15T15:57:19.400875Z",
     "shell.execute_reply": "2022-03-15T15:57:19.401462Z",
     "shell.execute_reply.started": "2022-03-15T15:52:55.397123Z"
    },
    "papermill": {
     "duration": 0.162141,
     "end_time": "2022-03-15T15:57:19.401652",
     "exception": false,
     "start_time": "2022-03-15T15:57:19.239511",
     "status": "completed"
    },
    "tags": []
   },
   "outputs": [],
   "source": [
    "train_df = pd.get_dummies(train_df, columns=categorical_cols)\n",
    "test_df = pd.get_dummies(test_df, columns=categorical_cols)"
   ]
  },
  {
   "cell_type": "code",
   "execution_count": 53,
   "id": "1530beca",
   "metadata": {
    "execution": {
     "iopub.execute_input": "2022-03-15T15:57:19.691548Z",
     "iopub.status.busy": "2022-03-15T15:57:19.690556Z",
     "iopub.status.idle": "2022-03-15T15:57:19.694134Z",
     "shell.execute_reply": "2022-03-15T15:57:19.694651Z",
     "shell.execute_reply.started": "2022-03-15T15:52:55.588738Z"
    },
    "papermill": {
     "duration": 0.169869,
     "end_time": "2022-03-15T15:57:19.694834",
     "exception": false,
     "start_time": "2022-03-15T15:57:19.524965",
     "status": "completed"
    },
    "tags": []
   },
   "outputs": [
    {
     "data": {
      "text/plain": [
       "['Age', 'RoomService', 'FoodCourt', 'ShoppingMall', 'Spa', 'VRDeck']"
      ]
     },
     "execution_count": 53,
     "metadata": {},
     "output_type": "execute_result"
    }
   ],
   "source": [
    "numerical_cols"
   ]
  },
  {
   "cell_type": "code",
   "execution_count": 54,
   "id": "8df39f78",
   "metadata": {
    "execution": {
     "iopub.execute_input": "2022-03-15T15:57:19.946001Z",
     "iopub.status.busy": "2022-03-15T15:57:19.944897Z",
     "iopub.status.idle": "2022-03-15T15:57:19.954417Z",
     "shell.execute_reply": "2022-03-15T15:57:19.955008Z",
     "shell.execute_reply.started": "2022-03-15T15:52:55.844897Z"
    },
    "papermill": {
     "duration": 0.137991,
     "end_time": "2022-03-15T15:57:19.955205",
     "exception": false,
     "start_time": "2022-03-15T15:57:19.817214",
     "status": "completed"
    },
    "tags": []
   },
   "outputs": [],
   "source": [
    "train_df[\"TotalExpenses\"] = train_df[\"RoomService\"] + train_df[\"FoodCourt\"] + train_df[\"ShoppingMall\"] + train_df[\"Spa\"] + train_df[\"VRDeck\"]\n",
    "test_df[\"TotalExpenses\"] = test_df[\"RoomService\"] + test_df[\"FoodCourt\"] + test_df[\"ShoppingMall\"] + test_df[\"Spa\"] + test_df[\"VRDeck\"]"
   ]
  },
  {
   "cell_type": "code",
   "execution_count": 55,
   "id": "3d800ac2",
   "metadata": {
    "execution": {
     "iopub.execute_input": "2022-03-15T15:57:20.204220Z",
     "iopub.status.busy": "2022-03-15T15:57:20.203158Z",
     "iopub.status.idle": "2022-03-15T15:57:20.206979Z",
     "shell.execute_reply": "2022-03-15T15:57:20.207483Z",
     "shell.execute_reply.started": "2022-03-15T15:52:56.076963Z"
    },
    "papermill": {
     "duration": 0.128847,
     "end_time": "2022-03-15T15:57:20.207681",
     "exception": false,
     "start_time": "2022-03-15T15:57:20.078834",
     "status": "completed"
    },
    "tags": []
   },
   "outputs": [],
   "source": [
    "# sc = MinMaxScaler()\n",
    "# for col in numerical_cols:\n",
    "#     train_df[col] = sc.fit_transform(np.array(train_df[col]).reshape(-1,1))\n",
    "#     test_df[col] = sc.transform(np.array(test_df[col]).reshape(-1,1))"
   ]
  },
  {
   "cell_type": "code",
   "execution_count": 56,
   "id": "3bebf4a5",
   "metadata": {
    "execution": {
     "iopub.execute_input": "2022-03-15T15:57:20.455098Z",
     "iopub.status.busy": "2022-03-15T15:57:20.453998Z",
     "iopub.status.idle": "2022-03-15T15:57:20.464864Z",
     "shell.execute_reply": "2022-03-15T15:57:20.465391Z",
     "shell.execute_reply.started": "2022-03-15T15:52:56.396789Z"
    },
    "papermill": {
     "duration": 0.136134,
     "end_time": "2022-03-15T15:57:20.465597",
     "exception": false,
     "start_time": "2022-03-15T15:57:20.329463",
     "status": "completed"
    },
    "tags": []
   },
   "outputs": [],
   "source": [
    "# drop out the passenger identifiers\n",
    "# train_df = train_df.drop([\"PassengerId\", \"Name\", \"Cabin\", \"Group\", \"RoomService\", \"FoodCourt\", \"ShoppingMall\", \"Spa\", \"VRDeck\"], axis=1)\n",
    "# test_df = test_df.drop([\"PassengerId\", \"Name\", \"Cabin\", \"Group\", \"RoomService\", \"FoodCourt\", \"ShoppingMall\", \"Spa\", \"VRDeck\"], axis=1)\n",
    "train_df = train_df.drop([\"PassengerId\", \"Name\", \"Cabin\", \"Group\"], axis=1)\n",
    "test_df = test_df.drop([\"PassengerId\", \"Name\", \"Cabin\", \"Group\"], axis=1)"
   ]
  },
  {
   "cell_type": "code",
   "execution_count": 57,
   "id": "4ca1eddc",
   "metadata": {
    "execution": {
     "iopub.execute_input": "2022-03-15T15:57:20.717595Z",
     "iopub.status.busy": "2022-03-15T15:57:20.716540Z",
     "iopub.status.idle": "2022-03-15T15:57:20.740133Z",
     "shell.execute_reply": "2022-03-15T15:57:20.740654Z",
     "shell.execute_reply.started": "2022-03-15T15:52:56.836515Z"
    },
    "papermill": {
     "duration": 0.150376,
     "end_time": "2022-03-15T15:57:20.740843",
     "exception": false,
     "start_time": "2022-03-15T15:57:20.590467",
     "status": "completed"
    },
    "tags": []
   },
   "outputs": [
    {
     "data": {
      "text/html": [
       "<div>\n",
       "<style scoped>\n",
       "    .dataframe tbody tr th:only-of-type {\n",
       "        vertical-align: middle;\n",
       "    }\n",
       "\n",
       "    .dataframe tbody tr th {\n",
       "        vertical-align: top;\n",
       "    }\n",
       "\n",
       "    .dataframe thead th {\n",
       "        text-align: right;\n",
       "    }\n",
       "</style>\n",
       "<table border=\"1\" class=\"dataframe\">\n",
       "  <thead>\n",
       "    <tr style=\"text-align: right;\">\n",
       "      <th></th>\n",
       "      <th>Age</th>\n",
       "      <th>RoomService</th>\n",
       "      <th>FoodCourt</th>\n",
       "      <th>ShoppingMall</th>\n",
       "      <th>Spa</th>\n",
       "      <th>VRDeck</th>\n",
       "      <th>Transported</th>\n",
       "      <th>Num</th>\n",
       "      <th>IsFamily</th>\n",
       "      <th>HomePlanet_Earth</th>\n",
       "      <th>...</th>\n",
       "      <th>Deck_B</th>\n",
       "      <th>Deck_C</th>\n",
       "      <th>Deck_D</th>\n",
       "      <th>Deck_E</th>\n",
       "      <th>Deck_F</th>\n",
       "      <th>Deck_G</th>\n",
       "      <th>Deck_T</th>\n",
       "      <th>Side_P</th>\n",
       "      <th>Side_S</th>\n",
       "      <th>TotalExpenses</th>\n",
       "    </tr>\n",
       "  </thead>\n",
       "  <tbody>\n",
       "    <tr>\n",
       "      <th>0</th>\n",
       "      <td>39.0</td>\n",
       "      <td>0.0</td>\n",
       "      <td>0.0</td>\n",
       "      <td>0.0</td>\n",
       "      <td>0.0</td>\n",
       "      <td>0.0</td>\n",
       "      <td>False</td>\n",
       "      <td>0</td>\n",
       "      <td>1</td>\n",
       "      <td>0</td>\n",
       "      <td>...</td>\n",
       "      <td>1</td>\n",
       "      <td>0</td>\n",
       "      <td>0</td>\n",
       "      <td>0</td>\n",
       "      <td>0</td>\n",
       "      <td>0</td>\n",
       "      <td>0</td>\n",
       "      <td>1</td>\n",
       "      <td>0</td>\n",
       "      <td>0.0</td>\n",
       "    </tr>\n",
       "    <tr>\n",
       "      <th>1</th>\n",
       "      <td>24.0</td>\n",
       "      <td>109.0</td>\n",
       "      <td>9.0</td>\n",
       "      <td>25.0</td>\n",
       "      <td>549.0</td>\n",
       "      <td>44.0</td>\n",
       "      <td>True</td>\n",
       "      <td>0</td>\n",
       "      <td>1</td>\n",
       "      <td>1</td>\n",
       "      <td>...</td>\n",
       "      <td>0</td>\n",
       "      <td>0</td>\n",
       "      <td>0</td>\n",
       "      <td>0</td>\n",
       "      <td>1</td>\n",
       "      <td>0</td>\n",
       "      <td>0</td>\n",
       "      <td>0</td>\n",
       "      <td>1</td>\n",
       "      <td>736.0</td>\n",
       "    </tr>\n",
       "    <tr>\n",
       "      <th>2</th>\n",
       "      <td>58.0</td>\n",
       "      <td>43.0</td>\n",
       "      <td>3576.0</td>\n",
       "      <td>0.0</td>\n",
       "      <td>6715.0</td>\n",
       "      <td>49.0</td>\n",
       "      <td>False</td>\n",
       "      <td>0</td>\n",
       "      <td>1</td>\n",
       "      <td>0</td>\n",
       "      <td>...</td>\n",
       "      <td>0</td>\n",
       "      <td>0</td>\n",
       "      <td>0</td>\n",
       "      <td>0</td>\n",
       "      <td>0</td>\n",
       "      <td>0</td>\n",
       "      <td>0</td>\n",
       "      <td>0</td>\n",
       "      <td>1</td>\n",
       "      <td>10383.0</td>\n",
       "    </tr>\n",
       "    <tr>\n",
       "      <th>3</th>\n",
       "      <td>33.0</td>\n",
       "      <td>0.0</td>\n",
       "      <td>1283.0</td>\n",
       "      <td>371.0</td>\n",
       "      <td>3329.0</td>\n",
       "      <td>193.0</td>\n",
       "      <td>False</td>\n",
       "      <td>0</td>\n",
       "      <td>1</td>\n",
       "      <td>0</td>\n",
       "      <td>...</td>\n",
       "      <td>0</td>\n",
       "      <td>0</td>\n",
       "      <td>0</td>\n",
       "      <td>0</td>\n",
       "      <td>0</td>\n",
       "      <td>0</td>\n",
       "      <td>0</td>\n",
       "      <td>0</td>\n",
       "      <td>1</td>\n",
       "      <td>5176.0</td>\n",
       "    </tr>\n",
       "    <tr>\n",
       "      <th>4</th>\n",
       "      <td>16.0</td>\n",
       "      <td>303.0</td>\n",
       "      <td>70.0</td>\n",
       "      <td>151.0</td>\n",
       "      <td>565.0</td>\n",
       "      <td>2.0</td>\n",
       "      <td>True</td>\n",
       "      <td>1</td>\n",
       "      <td>1</td>\n",
       "      <td>1</td>\n",
       "      <td>...</td>\n",
       "      <td>0</td>\n",
       "      <td>0</td>\n",
       "      <td>0</td>\n",
       "      <td>0</td>\n",
       "      <td>1</td>\n",
       "      <td>0</td>\n",
       "      <td>0</td>\n",
       "      <td>0</td>\n",
       "      <td>1</td>\n",
       "      <td>1091.0</td>\n",
       "    </tr>\n",
       "  </tbody>\n",
       "</table>\n",
       "<p>5 rows × 30 columns</p>\n",
       "</div>"
      ],
      "text/plain": [
       "    Age  RoomService  FoodCourt  ShoppingMall     Spa  VRDeck  Transported  \\\n",
       "0  39.0          0.0        0.0           0.0     0.0     0.0        False   \n",
       "1  24.0        109.0        9.0          25.0   549.0    44.0         True   \n",
       "2  58.0         43.0     3576.0           0.0  6715.0    49.0        False   \n",
       "3  33.0          0.0     1283.0         371.0  3329.0   193.0        False   \n",
       "4  16.0        303.0       70.0         151.0   565.0     2.0         True   \n",
       "\n",
       "   Num  IsFamily  HomePlanet_Earth  ...  Deck_B  Deck_C  Deck_D  Deck_E  \\\n",
       "0    0         1                 0  ...       1       0       0       0   \n",
       "1    0         1                 1  ...       0       0       0       0   \n",
       "2    0         1                 0  ...       0       0       0       0   \n",
       "3    0         1                 0  ...       0       0       0       0   \n",
       "4    1         1                 1  ...       0       0       0       0   \n",
       "\n",
       "   Deck_F  Deck_G  Deck_T  Side_P  Side_S  TotalExpenses  \n",
       "0       0       0       0       1       0            0.0  \n",
       "1       1       0       0       0       1          736.0  \n",
       "2       0       0       0       0       1        10383.0  \n",
       "3       0       0       0       0       1         5176.0  \n",
       "4       1       0       0       0       1         1091.0  \n",
       "\n",
       "[5 rows x 30 columns]"
      ]
     },
     "execution_count": 57,
     "metadata": {},
     "output_type": "execute_result"
    }
   ],
   "source": [
    "train_df.head()"
   ]
  },
  {
   "cell_type": "code",
   "execution_count": 58,
   "id": "263c3b9a",
   "metadata": {
    "execution": {
     "iopub.execute_input": "2022-03-15T15:57:20.993674Z",
     "iopub.status.busy": "2022-03-15T15:57:20.992642Z",
     "iopub.status.idle": "2022-03-15T15:57:21.017384Z",
     "shell.execute_reply": "2022-03-15T15:57:21.017964Z",
     "shell.execute_reply.started": "2022-03-15T15:52:57.589789Z"
    },
    "papermill": {
     "duration": 0.1535,
     "end_time": "2022-03-15T15:57:21.018161",
     "exception": false,
     "start_time": "2022-03-15T15:57:20.864661",
     "status": "completed"
    },
    "tags": []
   },
   "outputs": [
    {
     "data": {
      "text/html": [
       "<div>\n",
       "<style scoped>\n",
       "    .dataframe tbody tr th:only-of-type {\n",
       "        vertical-align: middle;\n",
       "    }\n",
       "\n",
       "    .dataframe tbody tr th {\n",
       "        vertical-align: top;\n",
       "    }\n",
       "\n",
       "    .dataframe thead th {\n",
       "        text-align: right;\n",
       "    }\n",
       "</style>\n",
       "<table border=\"1\" class=\"dataframe\">\n",
       "  <thead>\n",
       "    <tr style=\"text-align: right;\">\n",
       "      <th></th>\n",
       "      <th>Age</th>\n",
       "      <th>RoomService</th>\n",
       "      <th>FoodCourt</th>\n",
       "      <th>ShoppingMall</th>\n",
       "      <th>Spa</th>\n",
       "      <th>VRDeck</th>\n",
       "      <th>Num</th>\n",
       "      <th>IsFamily</th>\n",
       "      <th>HomePlanet_Earth</th>\n",
       "      <th>HomePlanet_Europa</th>\n",
       "      <th>...</th>\n",
       "      <th>Deck_B</th>\n",
       "      <th>Deck_C</th>\n",
       "      <th>Deck_D</th>\n",
       "      <th>Deck_E</th>\n",
       "      <th>Deck_F</th>\n",
       "      <th>Deck_G</th>\n",
       "      <th>Deck_T</th>\n",
       "      <th>Side_P</th>\n",
       "      <th>Side_S</th>\n",
       "      <th>TotalExpenses</th>\n",
       "    </tr>\n",
       "  </thead>\n",
       "  <tbody>\n",
       "    <tr>\n",
       "      <th>0</th>\n",
       "      <td>27.0</td>\n",
       "      <td>0.0</td>\n",
       "      <td>0.0</td>\n",
       "      <td>0.0</td>\n",
       "      <td>0.0</td>\n",
       "      <td>0.0</td>\n",
       "      <td>3</td>\n",
       "      <td>1</td>\n",
       "      <td>1</td>\n",
       "      <td>0</td>\n",
       "      <td>...</td>\n",
       "      <td>0</td>\n",
       "      <td>0</td>\n",
       "      <td>0</td>\n",
       "      <td>0</td>\n",
       "      <td>0</td>\n",
       "      <td>1</td>\n",
       "      <td>0</td>\n",
       "      <td>0</td>\n",
       "      <td>1</td>\n",
       "      <td>0.0</td>\n",
       "    </tr>\n",
       "    <tr>\n",
       "      <th>1</th>\n",
       "      <td>19.0</td>\n",
       "      <td>0.0</td>\n",
       "      <td>9.0</td>\n",
       "      <td>0.0</td>\n",
       "      <td>2823.0</td>\n",
       "      <td>0.0</td>\n",
       "      <td>4</td>\n",
       "      <td>1</td>\n",
       "      <td>1</td>\n",
       "      <td>0</td>\n",
       "      <td>...</td>\n",
       "      <td>0</td>\n",
       "      <td>0</td>\n",
       "      <td>0</td>\n",
       "      <td>0</td>\n",
       "      <td>1</td>\n",
       "      <td>0</td>\n",
       "      <td>0</td>\n",
       "      <td>0</td>\n",
       "      <td>1</td>\n",
       "      <td>2832.0</td>\n",
       "    </tr>\n",
       "    <tr>\n",
       "      <th>2</th>\n",
       "      <td>31.0</td>\n",
       "      <td>0.0</td>\n",
       "      <td>0.0</td>\n",
       "      <td>0.0</td>\n",
       "      <td>0.0</td>\n",
       "      <td>0.0</td>\n",
       "      <td>0</td>\n",
       "      <td>1</td>\n",
       "      <td>0</td>\n",
       "      <td>1</td>\n",
       "      <td>...</td>\n",
       "      <td>0</td>\n",
       "      <td>1</td>\n",
       "      <td>0</td>\n",
       "      <td>0</td>\n",
       "      <td>0</td>\n",
       "      <td>0</td>\n",
       "      <td>0</td>\n",
       "      <td>0</td>\n",
       "      <td>1</td>\n",
       "      <td>0.0</td>\n",
       "    </tr>\n",
       "    <tr>\n",
       "      <th>3</th>\n",
       "      <td>38.0</td>\n",
       "      <td>0.0</td>\n",
       "      <td>6652.0</td>\n",
       "      <td>0.0</td>\n",
       "      <td>181.0</td>\n",
       "      <td>585.0</td>\n",
       "      <td>1</td>\n",
       "      <td>1</td>\n",
       "      <td>0</td>\n",
       "      <td>1</td>\n",
       "      <td>...</td>\n",
       "      <td>0</td>\n",
       "      <td>1</td>\n",
       "      <td>0</td>\n",
       "      <td>0</td>\n",
       "      <td>0</td>\n",
       "      <td>0</td>\n",
       "      <td>0</td>\n",
       "      <td>0</td>\n",
       "      <td>1</td>\n",
       "      <td>7418.0</td>\n",
       "    </tr>\n",
       "    <tr>\n",
       "      <th>4</th>\n",
       "      <td>20.0</td>\n",
       "      <td>10.0</td>\n",
       "      <td>0.0</td>\n",
       "      <td>635.0</td>\n",
       "      <td>0.0</td>\n",
       "      <td>0.0</td>\n",
       "      <td>5</td>\n",
       "      <td>1</td>\n",
       "      <td>1</td>\n",
       "      <td>0</td>\n",
       "      <td>...</td>\n",
       "      <td>0</td>\n",
       "      <td>0</td>\n",
       "      <td>0</td>\n",
       "      <td>0</td>\n",
       "      <td>1</td>\n",
       "      <td>0</td>\n",
       "      <td>0</td>\n",
       "      <td>0</td>\n",
       "      <td>1</td>\n",
       "      <td>645.0</td>\n",
       "    </tr>\n",
       "  </tbody>\n",
       "</table>\n",
       "<p>5 rows × 29 columns</p>\n",
       "</div>"
      ],
      "text/plain": [
       "    Age  RoomService  FoodCourt  ShoppingMall     Spa  VRDeck  Num  IsFamily  \\\n",
       "0  27.0          0.0        0.0           0.0     0.0     0.0    3         1   \n",
       "1  19.0          0.0        9.0           0.0  2823.0     0.0    4         1   \n",
       "2  31.0          0.0        0.0           0.0     0.0     0.0    0         1   \n",
       "3  38.0          0.0     6652.0           0.0   181.0   585.0    1         1   \n",
       "4  20.0         10.0        0.0         635.0     0.0     0.0    5         1   \n",
       "\n",
       "   HomePlanet_Earth  HomePlanet_Europa  ...  Deck_B  Deck_C  Deck_D  Deck_E  \\\n",
       "0                 1                  0  ...       0       0       0       0   \n",
       "1                 1                  0  ...       0       0       0       0   \n",
       "2                 0                  1  ...       0       1       0       0   \n",
       "3                 0                  1  ...       0       1       0       0   \n",
       "4                 1                  0  ...       0       0       0       0   \n",
       "\n",
       "   Deck_F  Deck_G  Deck_T  Side_P  Side_S  TotalExpenses  \n",
       "0       0       1       0       0       1            0.0  \n",
       "1       1       0       0       0       1         2832.0  \n",
       "2       0       0       0       0       1            0.0  \n",
       "3       0       0       0       0       1         7418.0  \n",
       "4       1       0       0       0       1          645.0  \n",
       "\n",
       "[5 rows x 29 columns]"
      ]
     },
     "execution_count": 58,
     "metadata": {},
     "output_type": "execute_result"
    }
   ],
   "source": [
    "test_df.head()"
   ]
  },
  {
   "cell_type": "markdown",
   "id": "14c3cde5",
   "metadata": {
    "papermill": {
     "duration": 0.121364,
     "end_time": "2022-03-15T15:57:21.262804",
     "exception": false,
     "start_time": "2022-03-15T15:57:21.141440",
     "status": "completed"
    },
    "tags": []
   },
   "source": [
    "# Model Training"
   ]
  },
  {
   "cell_type": "markdown",
   "id": "8e669235",
   "metadata": {
    "papermill": {
     "duration": 0.122272,
     "end_time": "2022-03-15T15:57:21.506908",
     "exception": false,
     "start_time": "2022-03-15T15:57:21.384636",
     "status": "completed"
    },
    "tags": []
   },
   "source": [
    "### Model Training: Split Training Set & Encode Target Y"
   ]
  },
  {
   "cell_type": "code",
   "execution_count": 59,
   "id": "54f42a46",
   "metadata": {
    "execution": {
     "iopub.execute_input": "2022-03-15T15:57:21.763290Z",
     "iopub.status.busy": "2022-03-15T15:57:21.762174Z",
     "iopub.status.idle": "2022-03-15T15:57:21.770903Z",
     "shell.execute_reply": "2022-03-15T15:57:21.771437Z",
     "shell.execute_reply.started": "2022-03-15T15:53:02.232740Z"
    },
    "papermill": {
     "duration": 0.139952,
     "end_time": "2022-03-15T15:57:21.771622",
     "exception": false,
     "start_time": "2022-03-15T15:57:21.631670",
     "status": "completed"
    },
    "tags": []
   },
   "outputs": [
    {
     "name": "stdout",
     "output_type": "stream",
     "text": [
      "[False  True]\n",
      "(6954, 29) (6954,) (1739, 29) (1739,)\n"
     ]
    }
   ],
   "source": [
    "X = train_df.drop([\"Transported\"], axis=1)\n",
    "y = train_df[\"Transported\"]\n",
    "\n",
    "le = LabelEncoder()\n",
    "y = le.fit_transform(y)\n",
    "print(le.classes_)\n",
    "\n",
    "X_train, X_test, y_train, y_test = train_test_split(X, y, test_size=0.2)\n",
    "print(X_train.shape, y_train.shape, X_test.shape, y_test.shape)"
   ]
  },
  {
   "cell_type": "markdown",
   "id": "b99db505",
   "metadata": {
    "papermill": {
     "duration": 0.12529,
     "end_time": "2022-03-15T15:57:22.017605",
     "exception": false,
     "start_time": "2022-03-15T15:57:21.892315",
     "status": "completed"
    },
    "tags": []
   },
   "source": [
    "### Model Training: All Algorithms & Evaluation Score"
   ]
  },
  {
   "cell_type": "code",
   "execution_count": 60,
   "id": "0f3ac253",
   "metadata": {
    "execution": {
     "iopub.execute_input": "2022-03-15T15:57:22.269661Z",
     "iopub.status.busy": "2022-03-15T15:57:22.268552Z",
     "iopub.status.idle": "2022-03-15T15:57:22.276087Z",
     "shell.execute_reply": "2022-03-15T15:57:22.276569Z",
     "shell.execute_reply.started": "2022-03-15T15:53:02.592754Z"
    },
    "papermill": {
     "duration": 0.136217,
     "end_time": "2022-03-15T15:57:22.276755",
     "exception": false,
     "start_time": "2022-03-15T15:57:22.140538",
     "status": "completed"
    },
    "tags": []
   },
   "outputs": [
    {
     "data": {
      "text/plain": [
       "Age                          0\n",
       "RoomService                  0\n",
       "FoodCourt                    0\n",
       "ShoppingMall                 0\n",
       "Spa                          0\n",
       "VRDeck                       0\n",
       "Num                          0\n",
       "IsFamily                     0\n",
       "HomePlanet_Earth             0\n",
       "HomePlanet_Europa            0\n",
       "HomePlanet_Mars              0\n",
       "Destination_55 Cancri e      0\n",
       "Destination_PSO J318.5-22    0\n",
       "Destination_TRAPPIST-1e      0\n",
       "CryoSleep_False              0\n",
       "CryoSleep_True               0\n",
       "VIP_False                    0\n",
       "VIP_True                     0\n",
       "Deck_A                       0\n",
       "Deck_B                       0\n",
       "Deck_C                       0\n",
       "Deck_D                       0\n",
       "Deck_E                       0\n",
       "Deck_F                       0\n",
       "Deck_G                       0\n",
       "Deck_T                       0\n",
       "Side_P                       0\n",
       "Side_S                       0\n",
       "TotalExpenses                0\n",
       "dtype: int64"
      ]
     },
     "execution_count": 60,
     "metadata": {},
     "output_type": "execute_result"
    }
   ],
   "source": [
    "X_train.isna().sum()"
   ]
  },
  {
   "cell_type": "code",
   "execution_count": 61,
   "id": "34a165b3",
   "metadata": {
    "execution": {
     "iopub.execute_input": "2022-03-15T15:57:22.532094Z",
     "iopub.status.busy": "2022-03-15T15:57:22.531026Z",
     "iopub.status.idle": "2022-03-15T15:57:22.566730Z",
     "shell.execute_reply": "2022-03-15T15:57:22.567302Z",
     "shell.execute_reply.started": "2022-03-15T15:53:02.745051Z"
    },
    "papermill": {
     "duration": 0.164215,
     "end_time": "2022-03-15T15:57:22.567555",
     "exception": false,
     "start_time": "2022-03-15T15:57:22.403340",
     "status": "completed"
    },
    "tags": []
   },
   "outputs": [
    {
     "data": {
      "text/html": [
       "<div>\n",
       "<style scoped>\n",
       "    .dataframe tbody tr th:only-of-type {\n",
       "        vertical-align: middle;\n",
       "    }\n",
       "\n",
       "    .dataframe tbody tr th {\n",
       "        vertical-align: top;\n",
       "    }\n",
       "\n",
       "    .dataframe thead th {\n",
       "        text-align: right;\n",
       "    }\n",
       "</style>\n",
       "<table border=\"1\" class=\"dataframe\">\n",
       "  <thead>\n",
       "    <tr style=\"text-align: right;\">\n",
       "      <th></th>\n",
       "      <th>Age</th>\n",
       "      <th>RoomService</th>\n",
       "      <th>FoodCourt</th>\n",
       "      <th>ShoppingMall</th>\n",
       "      <th>Spa</th>\n",
       "      <th>VRDeck</th>\n",
       "      <th>Num</th>\n",
       "      <th>IsFamily</th>\n",
       "      <th>HomePlanet_Earth</th>\n",
       "      <th>HomePlanet_Europa</th>\n",
       "      <th>...</th>\n",
       "      <th>Deck_B</th>\n",
       "      <th>Deck_C</th>\n",
       "      <th>Deck_D</th>\n",
       "      <th>Deck_E</th>\n",
       "      <th>Deck_F</th>\n",
       "      <th>Deck_G</th>\n",
       "      <th>Deck_T</th>\n",
       "      <th>Side_P</th>\n",
       "      <th>Side_S</th>\n",
       "      <th>TotalExpenses</th>\n",
       "    </tr>\n",
       "  </thead>\n",
       "  <tbody>\n",
       "    <tr>\n",
       "      <th>3293</th>\n",
       "      <td>29.0</td>\n",
       "      <td>0.0</td>\n",
       "      <td>10.0</td>\n",
       "      <td>0.0</td>\n",
       "      <td>0.0</td>\n",
       "      <td>715.0</td>\n",
       "      <td>733</td>\n",
       "      <td>1</td>\n",
       "      <td>1</td>\n",
       "      <td>0</td>\n",
       "      <td>...</td>\n",
       "      <td>0</td>\n",
       "      <td>0</td>\n",
       "      <td>0</td>\n",
       "      <td>0</td>\n",
       "      <td>1</td>\n",
       "      <td>0</td>\n",
       "      <td>0</td>\n",
       "      <td>1</td>\n",
       "      <td>0</td>\n",
       "      <td>725.0</td>\n",
       "    </tr>\n",
       "    <tr>\n",
       "      <th>4858</th>\n",
       "      <td>0.0</td>\n",
       "      <td>0.0</td>\n",
       "      <td>0.0</td>\n",
       "      <td>0.0</td>\n",
       "      <td>0.0</td>\n",
       "      <td>0.0</td>\n",
       "      <td>837</td>\n",
       "      <td>1</td>\n",
       "      <td>1</td>\n",
       "      <td>0</td>\n",
       "      <td>...</td>\n",
       "      <td>0</td>\n",
       "      <td>0</td>\n",
       "      <td>0</td>\n",
       "      <td>0</td>\n",
       "      <td>0</td>\n",
       "      <td>1</td>\n",
       "      <td>0</td>\n",
       "      <td>1</td>\n",
       "      <td>0</td>\n",
       "      <td>0.0</td>\n",
       "    </tr>\n",
       "    <tr>\n",
       "      <th>4782</th>\n",
       "      <td>16.0</td>\n",
       "      <td>0.0</td>\n",
       "      <td>0.0</td>\n",
       "      <td>0.0</td>\n",
       "      <td>0.0</td>\n",
       "      <td>0.0</td>\n",
       "      <td>82</td>\n",
       "      <td>1</td>\n",
       "      <td>1</td>\n",
       "      <td>0</td>\n",
       "      <td>...</td>\n",
       "      <td>0</td>\n",
       "      <td>0</td>\n",
       "      <td>0</td>\n",
       "      <td>0</td>\n",
       "      <td>1</td>\n",
       "      <td>0</td>\n",
       "      <td>0</td>\n",
       "      <td>0</td>\n",
       "      <td>1</td>\n",
       "      <td>0.0</td>\n",
       "    </tr>\n",
       "    <tr>\n",
       "      <th>3654</th>\n",
       "      <td>42.0</td>\n",
       "      <td>0.0</td>\n",
       "      <td>1249.0</td>\n",
       "      <td>0.0</td>\n",
       "      <td>1313.0</td>\n",
       "      <td>1148.0</td>\n",
       "      <td>142</td>\n",
       "      <td>1</td>\n",
       "      <td>0</td>\n",
       "      <td>1</td>\n",
       "      <td>...</td>\n",
       "      <td>0</td>\n",
       "      <td>1</td>\n",
       "      <td>0</td>\n",
       "      <td>0</td>\n",
       "      <td>0</td>\n",
       "      <td>0</td>\n",
       "      <td>0</td>\n",
       "      <td>0</td>\n",
       "      <td>1</td>\n",
       "      <td>3710.0</td>\n",
       "    </tr>\n",
       "    <tr>\n",
       "      <th>6550</th>\n",
       "      <td>40.0</td>\n",
       "      <td>0.0</td>\n",
       "      <td>120.0</td>\n",
       "      <td>0.0</td>\n",
       "      <td>2814.0</td>\n",
       "      <td>318.0</td>\n",
       "      <td>221</td>\n",
       "      <td>1</td>\n",
       "      <td>0</td>\n",
       "      <td>1</td>\n",
       "      <td>...</td>\n",
       "      <td>0</td>\n",
       "      <td>1</td>\n",
       "      <td>0</td>\n",
       "      <td>0</td>\n",
       "      <td>0</td>\n",
       "      <td>0</td>\n",
       "      <td>0</td>\n",
       "      <td>1</td>\n",
       "      <td>0</td>\n",
       "      <td>3252.0</td>\n",
       "    </tr>\n",
       "    <tr>\n",
       "      <th>...</th>\n",
       "      <td>...</td>\n",
       "      <td>...</td>\n",
       "      <td>...</td>\n",
       "      <td>...</td>\n",
       "      <td>...</td>\n",
       "      <td>...</td>\n",
       "      <td>...</td>\n",
       "      <td>...</td>\n",
       "      <td>...</td>\n",
       "      <td>...</td>\n",
       "      <td>...</td>\n",
       "      <td>...</td>\n",
       "      <td>...</td>\n",
       "      <td>...</td>\n",
       "      <td>...</td>\n",
       "      <td>...</td>\n",
       "      <td>...</td>\n",
       "      <td>...</td>\n",
       "      <td>...</td>\n",
       "      <td>...</td>\n",
       "      <td>...</td>\n",
       "    </tr>\n",
       "    <tr>\n",
       "      <th>5228</th>\n",
       "      <td>18.0</td>\n",
       "      <td>0.0</td>\n",
       "      <td>0.0</td>\n",
       "      <td>0.0</td>\n",
       "      <td>0.0</td>\n",
       "      <td>0.0</td>\n",
       "      <td>892</td>\n",
       "      <td>1</td>\n",
       "      <td>1</td>\n",
       "      <td>0</td>\n",
       "      <td>...</td>\n",
       "      <td>0</td>\n",
       "      <td>0</td>\n",
       "      <td>0</td>\n",
       "      <td>0</td>\n",
       "      <td>0</td>\n",
       "      <td>1</td>\n",
       "      <td>0</td>\n",
       "      <td>1</td>\n",
       "      <td>0</td>\n",
       "      <td>0.0</td>\n",
       "    </tr>\n",
       "    <tr>\n",
       "      <th>7500</th>\n",
       "      <td>26.0</td>\n",
       "      <td>0.0</td>\n",
       "      <td>0.0</td>\n",
       "      <td>0.0</td>\n",
       "      <td>0.0</td>\n",
       "      <td>0.0</td>\n",
       "      <td>249</td>\n",
       "      <td>1</td>\n",
       "      <td>0</td>\n",
       "      <td>1</td>\n",
       "      <td>...</td>\n",
       "      <td>0</td>\n",
       "      <td>0</td>\n",
       "      <td>1</td>\n",
       "      <td>0</td>\n",
       "      <td>0</td>\n",
       "      <td>0</td>\n",
       "      <td>0</td>\n",
       "      <td>1</td>\n",
       "      <td>0</td>\n",
       "      <td>0.0</td>\n",
       "    </tr>\n",
       "    <tr>\n",
       "      <th>5120</th>\n",
       "      <td>32.0</td>\n",
       "      <td>0.0</td>\n",
       "      <td>0.0</td>\n",
       "      <td>0.0</td>\n",
       "      <td>0.0</td>\n",
       "      <td>0.0</td>\n",
       "      <td>208</td>\n",
       "      <td>1</td>\n",
       "      <td>0</td>\n",
       "      <td>1</td>\n",
       "      <td>...</td>\n",
       "      <td>1</td>\n",
       "      <td>0</td>\n",
       "      <td>0</td>\n",
       "      <td>0</td>\n",
       "      <td>0</td>\n",
       "      <td>0</td>\n",
       "      <td>0</td>\n",
       "      <td>0</td>\n",
       "      <td>1</td>\n",
       "      <td>0.0</td>\n",
       "    </tr>\n",
       "    <tr>\n",
       "      <th>2287</th>\n",
       "      <td>16.0</td>\n",
       "      <td>0.0</td>\n",
       "      <td>0.0</td>\n",
       "      <td>0.0</td>\n",
       "      <td>0.0</td>\n",
       "      <td>0.0</td>\n",
       "      <td>400</td>\n",
       "      <td>1</td>\n",
       "      <td>1</td>\n",
       "      <td>0</td>\n",
       "      <td>...</td>\n",
       "      <td>0</td>\n",
       "      <td>0</td>\n",
       "      <td>0</td>\n",
       "      <td>0</td>\n",
       "      <td>0</td>\n",
       "      <td>1</td>\n",
       "      <td>0</td>\n",
       "      <td>1</td>\n",
       "      <td>0</td>\n",
       "      <td>0.0</td>\n",
       "    </tr>\n",
       "    <tr>\n",
       "      <th>7347</th>\n",
       "      <td>6.0</td>\n",
       "      <td>0.0</td>\n",
       "      <td>0.0</td>\n",
       "      <td>0.0</td>\n",
       "      <td>0.0</td>\n",
       "      <td>0.0</td>\n",
       "      <td>1265</td>\n",
       "      <td>1</td>\n",
       "      <td>1</td>\n",
       "      <td>0</td>\n",
       "      <td>...</td>\n",
       "      <td>0</td>\n",
       "      <td>0</td>\n",
       "      <td>0</td>\n",
       "      <td>0</td>\n",
       "      <td>0</td>\n",
       "      <td>1</td>\n",
       "      <td>0</td>\n",
       "      <td>1</td>\n",
       "      <td>0</td>\n",
       "      <td>0.0</td>\n",
       "    </tr>\n",
       "  </tbody>\n",
       "</table>\n",
       "<p>6954 rows × 29 columns</p>\n",
       "</div>"
      ],
      "text/plain": [
       "       Age  RoomService  FoodCourt  ShoppingMall     Spa  VRDeck   Num  \\\n",
       "3293  29.0          0.0       10.0           0.0     0.0   715.0   733   \n",
       "4858   0.0          0.0        0.0           0.0     0.0     0.0   837   \n",
       "4782  16.0          0.0        0.0           0.0     0.0     0.0    82   \n",
       "3654  42.0          0.0     1249.0           0.0  1313.0  1148.0   142   \n",
       "6550  40.0          0.0      120.0           0.0  2814.0   318.0   221   \n",
       "...    ...          ...        ...           ...     ...     ...   ...   \n",
       "5228  18.0          0.0        0.0           0.0     0.0     0.0   892   \n",
       "7500  26.0          0.0        0.0           0.0     0.0     0.0   249   \n",
       "5120  32.0          0.0        0.0           0.0     0.0     0.0   208   \n",
       "2287  16.0          0.0        0.0           0.0     0.0     0.0   400   \n",
       "7347   6.0          0.0        0.0           0.0     0.0     0.0  1265   \n",
       "\n",
       "      IsFamily  HomePlanet_Earth  HomePlanet_Europa  ...  Deck_B  Deck_C  \\\n",
       "3293         1                 1                  0  ...       0       0   \n",
       "4858         1                 1                  0  ...       0       0   \n",
       "4782         1                 1                  0  ...       0       0   \n",
       "3654         1                 0                  1  ...       0       1   \n",
       "6550         1                 0                  1  ...       0       1   \n",
       "...        ...               ...                ...  ...     ...     ...   \n",
       "5228         1                 1                  0  ...       0       0   \n",
       "7500         1                 0                  1  ...       0       0   \n",
       "5120         1                 0                  1  ...       1       0   \n",
       "2287         1                 1                  0  ...       0       0   \n",
       "7347         1                 1                  0  ...       0       0   \n",
       "\n",
       "      Deck_D  Deck_E  Deck_F  Deck_G  Deck_T  Side_P  Side_S  TotalExpenses  \n",
       "3293       0       0       1       0       0       1       0          725.0  \n",
       "4858       0       0       0       1       0       1       0            0.0  \n",
       "4782       0       0       1       0       0       0       1            0.0  \n",
       "3654       0       0       0       0       0       0       1         3710.0  \n",
       "6550       0       0       0       0       0       1       0         3252.0  \n",
       "...      ...     ...     ...     ...     ...     ...     ...            ...  \n",
       "5228       0       0       0       1       0       1       0            0.0  \n",
       "7500       1       0       0       0       0       1       0            0.0  \n",
       "5120       0       0       0       0       0       0       1            0.0  \n",
       "2287       0       0       0       1       0       1       0            0.0  \n",
       "7347       0       0       0       1       0       1       0            0.0  \n",
       "\n",
       "[6954 rows x 29 columns]"
      ]
     },
     "execution_count": 61,
     "metadata": {},
     "output_type": "execute_result"
    }
   ],
   "source": [
    "X_train"
   ]
  },
  {
   "cell_type": "code",
   "execution_count": 62,
   "id": "56595438",
   "metadata": {
    "execution": {
     "iopub.execute_input": "2022-03-15T15:57:22.824983Z",
     "iopub.status.busy": "2022-03-15T15:57:22.824149Z",
     "iopub.status.idle": "2022-03-15T15:57:22.830173Z",
     "shell.execute_reply": "2022-03-15T15:57:22.829638Z",
     "shell.execute_reply.started": "2022-03-15T15:53:02.914825Z"
    },
    "papermill": {
     "duration": 0.132888,
     "end_time": "2022-03-15T15:57:22.830349",
     "exception": false,
     "start_time": "2022-03-15T15:57:22.697461",
     "status": "completed"
    },
    "tags": []
   },
   "outputs": [
    {
     "data": {
      "text/plain": [
       "array([0, 1, 1, ..., 1, 1, 0])"
      ]
     },
     "execution_count": 62,
     "metadata": {},
     "output_type": "execute_result"
    }
   ],
   "source": [
    "y_train"
   ]
  },
  {
   "cell_type": "code",
   "execution_count": 63,
   "id": "111e81f7",
   "metadata": {
    "execution": {
     "iopub.execute_input": "2022-03-15T15:57:23.087620Z",
     "iopub.status.busy": "2022-03-15T15:57:23.086784Z",
     "iopub.status.idle": "2022-03-15T15:57:23.273230Z",
     "shell.execute_reply": "2022-03-15T15:57:23.274840Z",
     "shell.execute_reply.started": "2022-03-15T15:53:03.136681Z"
    },
    "papermill": {
     "duration": 0.319568,
     "end_time": "2022-03-15T15:57:23.275153",
     "exception": false,
     "start_time": "2022-03-15T15:57:22.955585",
     "status": "completed"
    },
    "tags": []
   },
   "outputs": [
    {
     "name": "stdout",
     "output_type": "stream",
     "text": [
      "0.782\n"
     ]
    },
    {
     "name": "stderr",
     "output_type": "stream",
     "text": [
      "/opt/conda/lib/python3.7/site-packages/sklearn/linear_model/_logistic.py:818: ConvergenceWarning: lbfgs failed to converge (status=1):\n",
      "STOP: TOTAL NO. of ITERATIONS REACHED LIMIT.\n",
      "\n",
      "Increase the number of iterations (max_iter) or scale the data as shown in:\n",
      "    https://scikit-learn.org/stable/modules/preprocessing.html\n",
      "Please also refer to the documentation for alternative solver options:\n",
      "    https://scikit-learn.org/stable/modules/linear_model.html#logistic-regression\n",
      "  extra_warning_msg=_LOGISTIC_SOLVER_CONVERGENCE_MSG,\n"
     ]
    }
   ],
   "source": [
    "lg = LogisticRegression()\n",
    "lg.fit(X_train, y_train)\n",
    "lg_pred = lg.predict(X_test)\n",
    "print(round(accuracy_score(y_test, lg_pred), 3))"
   ]
  },
  {
   "cell_type": "code",
   "execution_count": 64,
   "id": "d046e194",
   "metadata": {
    "execution": {
     "iopub.execute_input": "2022-03-15T15:57:23.593265Z",
     "iopub.status.busy": "2022-03-15T15:57:23.592526Z",
     "iopub.status.idle": "2022-03-15T15:57:23.646959Z",
     "shell.execute_reply": "2022-03-15T15:57:23.647520Z",
     "shell.execute_reply.started": "2022-03-15T15:53:03.312367Z"
    },
    "papermill": {
     "duration": 0.193796,
     "end_time": "2022-03-15T15:57:23.647712",
     "exception": false,
     "start_time": "2022-03-15T15:57:23.453916",
     "status": "completed"
    },
    "tags": []
   },
   "outputs": [
    {
     "name": "stdout",
     "output_type": "stream",
     "text": [
      "0.74\n"
     ]
    }
   ],
   "source": [
    "dt = DecisionTreeClassifier()\n",
    "dt.fit(X_train, y_train)\n",
    "dt_pred = dt.predict(X_test)\n",
    "print(round(accuracy_score(y_test, dt_pred), 3))"
   ]
  },
  {
   "cell_type": "code",
   "execution_count": 65,
   "id": "581656a4",
   "metadata": {
    "execution": {
     "iopub.execute_input": "2022-03-15T15:57:23.902368Z",
     "iopub.status.busy": "2022-03-15T15:57:23.901247Z",
     "iopub.status.idle": "2022-03-15T15:57:24.913352Z",
     "shell.execute_reply": "2022-03-15T15:57:24.912757Z",
     "shell.execute_reply.started": "2022-03-15T15:53:03.504188Z"
    },
    "papermill": {
     "duration": 1.140453,
     "end_time": "2022-03-15T15:57:24.913546",
     "exception": false,
     "start_time": "2022-03-15T15:57:23.773093",
     "status": "completed"
    },
    "tags": []
   },
   "outputs": [
    {
     "name": "stdout",
     "output_type": "stream",
     "text": [
      "0.79\n"
     ]
    }
   ],
   "source": [
    "rf = RandomForestClassifier()\n",
    "rf.fit(X_train, y_train)\n",
    "rf_pred = rf.predict(X_test)\n",
    "print(round(accuracy_score(y_test, rf_pred), 3))"
   ]
  },
  {
   "cell_type": "code",
   "execution_count": 66,
   "id": "17820c0e",
   "metadata": {
    "execution": {
     "iopub.execute_input": "2022-03-15T15:57:25.179420Z",
     "iopub.status.busy": "2022-03-15T15:57:25.178680Z",
     "iopub.status.idle": "2022-03-15T15:57:25.210618Z",
     "shell.execute_reply": "2022-03-15T15:57:25.211270Z",
     "shell.execute_reply.started": "2022-03-15T15:53:04.477615Z"
    },
    "papermill": {
     "duration": 0.165067,
     "end_time": "2022-03-15T15:57:25.211479",
     "exception": false,
     "start_time": "2022-03-15T15:57:25.046412",
     "status": "completed"
    },
    "tags": []
   },
   "outputs": [
    {
     "data": {
      "text/html": [
       "<div>\n",
       "<style scoped>\n",
       "    .dataframe tbody tr th:only-of-type {\n",
       "        vertical-align: middle;\n",
       "    }\n",
       "\n",
       "    .dataframe tbody tr th {\n",
       "        vertical-align: top;\n",
       "    }\n",
       "\n",
       "    .dataframe thead th {\n",
       "        text-align: right;\n",
       "    }\n",
       "</style>\n",
       "<table border=\"1\" class=\"dataframe\">\n",
       "  <thead>\n",
       "    <tr style=\"text-align: right;\">\n",
       "      <th></th>\n",
       "      <th>Age</th>\n",
       "      <th>RoomService</th>\n",
       "      <th>FoodCourt</th>\n",
       "      <th>ShoppingMall</th>\n",
       "      <th>Spa</th>\n",
       "      <th>VRDeck</th>\n",
       "      <th>Num</th>\n",
       "      <th>IsFamily</th>\n",
       "      <th>HomePlanet_Earth</th>\n",
       "      <th>HomePlanet_Europa</th>\n",
       "      <th>...</th>\n",
       "      <th>Deck_B</th>\n",
       "      <th>Deck_C</th>\n",
       "      <th>Deck_D</th>\n",
       "      <th>Deck_E</th>\n",
       "      <th>Deck_F</th>\n",
       "      <th>Deck_G</th>\n",
       "      <th>Deck_T</th>\n",
       "      <th>Side_P</th>\n",
       "      <th>Side_S</th>\n",
       "      <th>TotalExpenses</th>\n",
       "    </tr>\n",
       "  </thead>\n",
       "  <tbody>\n",
       "    <tr>\n",
       "      <th>3293</th>\n",
       "      <td>29.0</td>\n",
       "      <td>0.0</td>\n",
       "      <td>10.0</td>\n",
       "      <td>0.0</td>\n",
       "      <td>0.0</td>\n",
       "      <td>715.0</td>\n",
       "      <td>733</td>\n",
       "      <td>1</td>\n",
       "      <td>1</td>\n",
       "      <td>0</td>\n",
       "      <td>...</td>\n",
       "      <td>0</td>\n",
       "      <td>0</td>\n",
       "      <td>0</td>\n",
       "      <td>0</td>\n",
       "      <td>1</td>\n",
       "      <td>0</td>\n",
       "      <td>0</td>\n",
       "      <td>1</td>\n",
       "      <td>0</td>\n",
       "      <td>725.0</td>\n",
       "    </tr>\n",
       "    <tr>\n",
       "      <th>4858</th>\n",
       "      <td>0.0</td>\n",
       "      <td>0.0</td>\n",
       "      <td>0.0</td>\n",
       "      <td>0.0</td>\n",
       "      <td>0.0</td>\n",
       "      <td>0.0</td>\n",
       "      <td>837</td>\n",
       "      <td>1</td>\n",
       "      <td>1</td>\n",
       "      <td>0</td>\n",
       "      <td>...</td>\n",
       "      <td>0</td>\n",
       "      <td>0</td>\n",
       "      <td>0</td>\n",
       "      <td>0</td>\n",
       "      <td>0</td>\n",
       "      <td>1</td>\n",
       "      <td>0</td>\n",
       "      <td>1</td>\n",
       "      <td>0</td>\n",
       "      <td>0.0</td>\n",
       "    </tr>\n",
       "    <tr>\n",
       "      <th>4782</th>\n",
       "      <td>16.0</td>\n",
       "      <td>0.0</td>\n",
       "      <td>0.0</td>\n",
       "      <td>0.0</td>\n",
       "      <td>0.0</td>\n",
       "      <td>0.0</td>\n",
       "      <td>82</td>\n",
       "      <td>1</td>\n",
       "      <td>1</td>\n",
       "      <td>0</td>\n",
       "      <td>...</td>\n",
       "      <td>0</td>\n",
       "      <td>0</td>\n",
       "      <td>0</td>\n",
       "      <td>0</td>\n",
       "      <td>1</td>\n",
       "      <td>0</td>\n",
       "      <td>0</td>\n",
       "      <td>0</td>\n",
       "      <td>1</td>\n",
       "      <td>0.0</td>\n",
       "    </tr>\n",
       "    <tr>\n",
       "      <th>3654</th>\n",
       "      <td>42.0</td>\n",
       "      <td>0.0</td>\n",
       "      <td>1249.0</td>\n",
       "      <td>0.0</td>\n",
       "      <td>1313.0</td>\n",
       "      <td>1148.0</td>\n",
       "      <td>142</td>\n",
       "      <td>1</td>\n",
       "      <td>0</td>\n",
       "      <td>1</td>\n",
       "      <td>...</td>\n",
       "      <td>0</td>\n",
       "      <td>1</td>\n",
       "      <td>0</td>\n",
       "      <td>0</td>\n",
       "      <td>0</td>\n",
       "      <td>0</td>\n",
       "      <td>0</td>\n",
       "      <td>0</td>\n",
       "      <td>1</td>\n",
       "      <td>3710.0</td>\n",
       "    </tr>\n",
       "    <tr>\n",
       "      <th>6550</th>\n",
       "      <td>40.0</td>\n",
       "      <td>0.0</td>\n",
       "      <td>120.0</td>\n",
       "      <td>0.0</td>\n",
       "      <td>2814.0</td>\n",
       "      <td>318.0</td>\n",
       "      <td>221</td>\n",
       "      <td>1</td>\n",
       "      <td>0</td>\n",
       "      <td>1</td>\n",
       "      <td>...</td>\n",
       "      <td>0</td>\n",
       "      <td>1</td>\n",
       "      <td>0</td>\n",
       "      <td>0</td>\n",
       "      <td>0</td>\n",
       "      <td>0</td>\n",
       "      <td>0</td>\n",
       "      <td>1</td>\n",
       "      <td>0</td>\n",
       "      <td>3252.0</td>\n",
       "    </tr>\n",
       "    <tr>\n",
       "      <th>...</th>\n",
       "      <td>...</td>\n",
       "      <td>...</td>\n",
       "      <td>...</td>\n",
       "      <td>...</td>\n",
       "      <td>...</td>\n",
       "      <td>...</td>\n",
       "      <td>...</td>\n",
       "      <td>...</td>\n",
       "      <td>...</td>\n",
       "      <td>...</td>\n",
       "      <td>...</td>\n",
       "      <td>...</td>\n",
       "      <td>...</td>\n",
       "      <td>...</td>\n",
       "      <td>...</td>\n",
       "      <td>...</td>\n",
       "      <td>...</td>\n",
       "      <td>...</td>\n",
       "      <td>...</td>\n",
       "      <td>...</td>\n",
       "      <td>...</td>\n",
       "    </tr>\n",
       "    <tr>\n",
       "      <th>5228</th>\n",
       "      <td>18.0</td>\n",
       "      <td>0.0</td>\n",
       "      <td>0.0</td>\n",
       "      <td>0.0</td>\n",
       "      <td>0.0</td>\n",
       "      <td>0.0</td>\n",
       "      <td>892</td>\n",
       "      <td>1</td>\n",
       "      <td>1</td>\n",
       "      <td>0</td>\n",
       "      <td>...</td>\n",
       "      <td>0</td>\n",
       "      <td>0</td>\n",
       "      <td>0</td>\n",
       "      <td>0</td>\n",
       "      <td>0</td>\n",
       "      <td>1</td>\n",
       "      <td>0</td>\n",
       "      <td>1</td>\n",
       "      <td>0</td>\n",
       "      <td>0.0</td>\n",
       "    </tr>\n",
       "    <tr>\n",
       "      <th>7500</th>\n",
       "      <td>26.0</td>\n",
       "      <td>0.0</td>\n",
       "      <td>0.0</td>\n",
       "      <td>0.0</td>\n",
       "      <td>0.0</td>\n",
       "      <td>0.0</td>\n",
       "      <td>249</td>\n",
       "      <td>1</td>\n",
       "      <td>0</td>\n",
       "      <td>1</td>\n",
       "      <td>...</td>\n",
       "      <td>0</td>\n",
       "      <td>0</td>\n",
       "      <td>1</td>\n",
       "      <td>0</td>\n",
       "      <td>0</td>\n",
       "      <td>0</td>\n",
       "      <td>0</td>\n",
       "      <td>1</td>\n",
       "      <td>0</td>\n",
       "      <td>0.0</td>\n",
       "    </tr>\n",
       "    <tr>\n",
       "      <th>5120</th>\n",
       "      <td>32.0</td>\n",
       "      <td>0.0</td>\n",
       "      <td>0.0</td>\n",
       "      <td>0.0</td>\n",
       "      <td>0.0</td>\n",
       "      <td>0.0</td>\n",
       "      <td>208</td>\n",
       "      <td>1</td>\n",
       "      <td>0</td>\n",
       "      <td>1</td>\n",
       "      <td>...</td>\n",
       "      <td>1</td>\n",
       "      <td>0</td>\n",
       "      <td>0</td>\n",
       "      <td>0</td>\n",
       "      <td>0</td>\n",
       "      <td>0</td>\n",
       "      <td>0</td>\n",
       "      <td>0</td>\n",
       "      <td>1</td>\n",
       "      <td>0.0</td>\n",
       "    </tr>\n",
       "    <tr>\n",
       "      <th>2287</th>\n",
       "      <td>16.0</td>\n",
       "      <td>0.0</td>\n",
       "      <td>0.0</td>\n",
       "      <td>0.0</td>\n",
       "      <td>0.0</td>\n",
       "      <td>0.0</td>\n",
       "      <td>400</td>\n",
       "      <td>1</td>\n",
       "      <td>1</td>\n",
       "      <td>0</td>\n",
       "      <td>...</td>\n",
       "      <td>0</td>\n",
       "      <td>0</td>\n",
       "      <td>0</td>\n",
       "      <td>0</td>\n",
       "      <td>0</td>\n",
       "      <td>1</td>\n",
       "      <td>0</td>\n",
       "      <td>1</td>\n",
       "      <td>0</td>\n",
       "      <td>0.0</td>\n",
       "    </tr>\n",
       "    <tr>\n",
       "      <th>7347</th>\n",
       "      <td>6.0</td>\n",
       "      <td>0.0</td>\n",
       "      <td>0.0</td>\n",
       "      <td>0.0</td>\n",
       "      <td>0.0</td>\n",
       "      <td>0.0</td>\n",
       "      <td>1265</td>\n",
       "      <td>1</td>\n",
       "      <td>1</td>\n",
       "      <td>0</td>\n",
       "      <td>...</td>\n",
       "      <td>0</td>\n",
       "      <td>0</td>\n",
       "      <td>0</td>\n",
       "      <td>0</td>\n",
       "      <td>0</td>\n",
       "      <td>1</td>\n",
       "      <td>0</td>\n",
       "      <td>1</td>\n",
       "      <td>0</td>\n",
       "      <td>0.0</td>\n",
       "    </tr>\n",
       "  </tbody>\n",
       "</table>\n",
       "<p>6954 rows × 29 columns</p>\n",
       "</div>"
      ],
      "text/plain": [
       "       Age  RoomService  FoodCourt  ShoppingMall     Spa  VRDeck   Num  \\\n",
       "3293  29.0          0.0       10.0           0.0     0.0   715.0   733   \n",
       "4858   0.0          0.0        0.0           0.0     0.0     0.0   837   \n",
       "4782  16.0          0.0        0.0           0.0     0.0     0.0    82   \n",
       "3654  42.0          0.0     1249.0           0.0  1313.0  1148.0   142   \n",
       "6550  40.0          0.0      120.0           0.0  2814.0   318.0   221   \n",
       "...    ...          ...        ...           ...     ...     ...   ...   \n",
       "5228  18.0          0.0        0.0           0.0     0.0     0.0   892   \n",
       "7500  26.0          0.0        0.0           0.0     0.0     0.0   249   \n",
       "5120  32.0          0.0        0.0           0.0     0.0     0.0   208   \n",
       "2287  16.0          0.0        0.0           0.0     0.0     0.0   400   \n",
       "7347   6.0          0.0        0.0           0.0     0.0     0.0  1265   \n",
       "\n",
       "      IsFamily  HomePlanet_Earth  HomePlanet_Europa  ...  Deck_B  Deck_C  \\\n",
       "3293         1                 1                  0  ...       0       0   \n",
       "4858         1                 1                  0  ...       0       0   \n",
       "4782         1                 1                  0  ...       0       0   \n",
       "3654         1                 0                  1  ...       0       1   \n",
       "6550         1                 0                  1  ...       0       1   \n",
       "...        ...               ...                ...  ...     ...     ...   \n",
       "5228         1                 1                  0  ...       0       0   \n",
       "7500         1                 0                  1  ...       0       0   \n",
       "5120         1                 0                  1  ...       1       0   \n",
       "2287         1                 1                  0  ...       0       0   \n",
       "7347         1                 1                  0  ...       0       0   \n",
       "\n",
       "      Deck_D  Deck_E  Deck_F  Deck_G  Deck_T  Side_P  Side_S  TotalExpenses  \n",
       "3293       0       0       1       0       0       1       0          725.0  \n",
       "4858       0       0       0       1       0       1       0            0.0  \n",
       "4782       0       0       1       0       0       0       1            0.0  \n",
       "3654       0       0       0       0       0       0       1         3710.0  \n",
       "6550       0       0       0       0       0       1       0         3252.0  \n",
       "...      ...     ...     ...     ...     ...     ...     ...            ...  \n",
       "5228       0       0       0       1       0       1       0            0.0  \n",
       "7500       1       0       0       0       0       1       0            0.0  \n",
       "5120       0       0       0       0       0       0       1            0.0  \n",
       "2287       0       0       0       1       0       1       0            0.0  \n",
       "7347       0       0       0       1       0       1       0            0.0  \n",
       "\n",
       "[6954 rows x 29 columns]"
      ]
     },
     "execution_count": 66,
     "metadata": {},
     "output_type": "execute_result"
    }
   ],
   "source": [
    "X_train"
   ]
  },
  {
   "cell_type": "code",
   "execution_count": 67,
   "id": "11028827",
   "metadata": {
    "execution": {
     "iopub.execute_input": "2022-03-15T15:57:25.468579Z",
     "iopub.status.busy": "2022-03-15T15:57:25.467766Z",
     "iopub.status.idle": "2022-03-15T15:57:26.492102Z",
     "shell.execute_reply": "2022-03-15T15:57:26.493042Z",
     "shell.execute_reply.started": "2022-03-15T15:53:04.512358Z"
    },
    "papermill": {
     "duration": 1.154786,
     "end_time": "2022-03-15T15:57:26.493256",
     "exception": false,
     "start_time": "2022-03-15T15:57:25.338470",
     "status": "completed"
    },
    "tags": []
   },
   "outputs": [
    {
     "name": "stderr",
     "output_type": "stream",
     "text": [
      "/opt/conda/lib/python3.7/site-packages/xgboost/sklearn.py:1224: UserWarning: The use of label encoder in XGBClassifier is deprecated and will be removed in a future release. To remove this warning, do the following: 1) Pass option use_label_encoder=False when constructing XGBClassifier object; and 2) Encode your labels (y) as integers starting with 0, i.e. 0, 1, 2, ..., [num_class - 1].\n",
      "  warnings.warn(label_encoder_deprecation_msg, UserWarning)\n"
     ]
    },
    {
     "name": "stdout",
     "output_type": "stream",
     "text": [
      "[15:57:25] WARNING: ../src/learner.cc:1115: Starting in XGBoost 1.3.0, the default evaluation metric used with the objective 'binary:logistic' was changed from 'error' to 'logloss'. Explicitly set eval_metric if you'd like to restore the old behavior.\n",
      "0.786\n"
     ]
    }
   ],
   "source": [
    "xgb = XGBClassifier()\n",
    "xgb.fit(X_train, y_train)\n",
    "xgb_pred = xgb.predict(X_test)\n",
    "print(round(accuracy_score(y_test, xgb_pred), 3))"
   ]
  },
  {
   "cell_type": "code",
   "execution_count": 68,
   "id": "ae9adb70",
   "metadata": {
    "execution": {
     "iopub.execute_input": "2022-03-15T15:57:26.759732Z",
     "iopub.status.busy": "2022-03-15T15:57:26.759044Z",
     "iopub.status.idle": "2022-03-15T15:57:27.013532Z",
     "shell.execute_reply": "2022-03-15T15:57:27.015018Z",
     "shell.execute_reply.started": "2022-03-15T15:53:05.467169Z"
    },
    "papermill": {
     "duration": 0.391365,
     "end_time": "2022-03-15T15:57:27.015261",
     "exception": false,
     "start_time": "2022-03-15T15:57:26.623896",
     "status": "completed"
    },
    "tags": []
   },
   "outputs": [
    {
     "name": "stdout",
     "output_type": "stream",
     "text": [
      "0.798\n"
     ]
    }
   ],
   "source": [
    "lgb = LGBMClassifier()\n",
    "lgb.fit(X_train, y_train)\n",
    "lgb_pred = lgb.predict(X_test)\n",
    "print(round(accuracy_score(y_test, lgb_pred), 3))"
   ]
  },
  {
   "cell_type": "markdown",
   "id": "a7aa1fd6",
   "metadata": {
    "papermill": {
     "duration": 0.129706,
     "end_time": "2022-03-15T15:57:27.278066",
     "exception": false,
     "start_time": "2022-03-15T15:57:27.148360",
     "status": "completed"
    },
    "tags": []
   },
   "source": [
    "# Prediction"
   ]
  },
  {
   "cell_type": "code",
   "execution_count": 69,
   "id": "bf01124a",
   "metadata": {
    "execution": {
     "iopub.execute_input": "2022-03-15T15:57:27.550137Z",
     "iopub.status.busy": "2022-03-15T15:57:27.548959Z",
     "iopub.status.idle": "2022-03-15T15:57:27.590204Z",
     "shell.execute_reply": "2022-03-15T15:57:27.589549Z",
     "shell.execute_reply.started": "2022-03-15T15:54:47.832190Z"
    },
    "papermill": {
     "duration": 0.179525,
     "end_time": "2022-03-15T15:57:27.590427",
     "exception": false,
     "start_time": "2022-03-15T15:57:27.410902",
     "status": "completed"
    },
    "tags": []
   },
   "outputs": [
    {
     "data": {
      "text/html": [
       "<div>\n",
       "<style scoped>\n",
       "    .dataframe tbody tr th:only-of-type {\n",
       "        vertical-align: middle;\n",
       "    }\n",
       "\n",
       "    .dataframe tbody tr th {\n",
       "        vertical-align: top;\n",
       "    }\n",
       "\n",
       "    .dataframe thead th {\n",
       "        text-align: right;\n",
       "    }\n",
       "</style>\n",
       "<table border=\"1\" class=\"dataframe\">\n",
       "  <thead>\n",
       "    <tr style=\"text-align: right;\">\n",
       "      <th></th>\n",
       "      <th>PassengerId</th>\n",
       "      <th>Transported</th>\n",
       "    </tr>\n",
       "  </thead>\n",
       "  <tbody>\n",
       "    <tr>\n",
       "      <th>0</th>\n",
       "      <td>0013_01</td>\n",
       "      <td>True</td>\n",
       "    </tr>\n",
       "    <tr>\n",
       "      <th>1</th>\n",
       "      <td>0018_01</td>\n",
       "      <td>False</td>\n",
       "    </tr>\n",
       "    <tr>\n",
       "      <th>2</th>\n",
       "      <td>0019_01</td>\n",
       "      <td>True</td>\n",
       "    </tr>\n",
       "    <tr>\n",
       "      <th>3</th>\n",
       "      <td>0021_01</td>\n",
       "      <td>True</td>\n",
       "    </tr>\n",
       "    <tr>\n",
       "      <th>4</th>\n",
       "      <td>0023_01</td>\n",
       "      <td>True</td>\n",
       "    </tr>\n",
       "  </tbody>\n",
       "</table>\n",
       "</div>"
      ],
      "text/plain": [
       "  PassengerId  Transported\n",
       "0     0013_01         True\n",
       "1     0018_01        False\n",
       "2     0019_01         True\n",
       "3     0021_01         True\n",
       "4     0023_01         True"
      ]
     },
     "execution_count": 69,
     "metadata": {},
     "output_type": "execute_result"
    }
   ],
   "source": [
    "final_pred = lgb.predict(test_df)\n",
    "final_pred = le.inverse_transform(final_pred)\n",
    "sub_df[\"Transported\"] = final_pred\n",
    "sub_df.head()"
   ]
  },
  {
   "cell_type": "code",
   "execution_count": 70,
   "id": "dbe0313d",
   "metadata": {
    "execution": {
     "iopub.execute_input": "2022-03-15T15:57:27.855603Z",
     "iopub.status.busy": "2022-03-15T15:57:27.854864Z",
     "iopub.status.idle": "2022-03-15T15:57:27.870389Z",
     "shell.execute_reply": "2022-03-15T15:57:27.870982Z",
     "shell.execute_reply.started": "2022-03-15T15:54:48.614268Z"
    },
    "papermill": {
     "duration": 0.149194,
     "end_time": "2022-03-15T15:57:27.871176",
     "exception": false,
     "start_time": "2022-03-15T15:57:27.721982",
     "status": "completed"
    },
    "tags": []
   },
   "outputs": [],
   "source": [
    "sub_df.to_csv(\"submission_lgb_804.csv\", index=False)"
   ]
  },
  {
   "cell_type": "code",
   "execution_count": null,
   "id": "ed995a42",
   "metadata": {
    "papermill": {
     "duration": 0.130932,
     "end_time": "2022-03-15T15:57:28.134347",
     "exception": false,
     "start_time": "2022-03-15T15:57:28.003415",
     "status": "completed"
    },
    "tags": []
   },
   "outputs": [],
   "source": []
  },
  {
   "cell_type": "code",
   "execution_count": null,
   "id": "8f158627",
   "metadata": {
    "papermill": {
     "duration": 0.133298,
     "end_time": "2022-03-15T15:57:28.398864",
     "exception": false,
     "start_time": "2022-03-15T15:57:28.265566",
     "status": "completed"
    },
    "tags": []
   },
   "outputs": [],
   "source": []
  }
 ],
 "metadata": {
  "kernelspec": {
   "display_name": "Python 3",
   "language": "python",
   "name": "python3"
  },
  "language_info": {
   "codemirror_mode": {
    "name": "ipython",
    "version": 3
   },
   "file_extension": ".py",
   "mimetype": "text/x-python",
   "name": "python",
   "nbconvert_exporter": "python",
   "pygments_lexer": "ipython3",
   "version": "3.7.12"
  },
  "papermill": {
   "default_parameters": {},
   "duration": 73.029238,
   "end_time": "2022-03-15T15:57:29.443847",
   "environment_variables": {},
   "exception": null,
   "input_path": "__notebook__.ipynb",
   "output_path": "__notebook__.ipynb",
   "parameters": {},
   "start_time": "2022-03-15T15:56:16.414609",
   "version": "2.3.3"
  }
 },
 "nbformat": 4,
 "nbformat_minor": 5
}
